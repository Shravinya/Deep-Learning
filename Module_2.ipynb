{
  "nbformat": 4,
  "nbformat_minor": 0,
  "metadata": {
    "colab": {
      "provenance": [],
      "authorship_tag": "ABX9TyMgMVOfP+Nujd1Q9PHgDDh2",
      "include_colab_link": true
    },
    "kernelspec": {
      "name": "python3",
      "display_name": "Python 3"
    },
    "language_info": {
      "name": "python"
    }
  },
  "cells": [
    {
      "cell_type": "markdown",
      "metadata": {
        "id": "view-in-github",
        "colab_type": "text"
      },
      "source": [
        "<a href=\"https://colab.research.google.com/github/Shravinya/Deep-Learning/blob/main/Module_2.ipynb\" target=\"_parent\"><img src=\"https://colab.research.google.com/assets/colab-badge.svg\" alt=\"Open In Colab\"/></a>"
      ]
    },
    {
      "cell_type": "code",
      "execution_count": null,
      "metadata": {
        "id": "d5B5fNt9qHA3"
      },
      "outputs": [],
      "source": [
        "import tensorflow as tf\n",
        "from tensorflow import keras\n",
        "from tensorflow.keras import layers, regularizers, callbacks\n",
        "import numpy as np\n",
        "import matplotlib.pyplot as plt\n",
        "from tensorflow.keras.preprocessing.image import ImageDataGenerator"
      ]
    },
    {
      "cell_type": "markdown",
      "source": [
        "1. Load and Preprocess the Dataset\n"
      ],
      "metadata": {
        "id": "nPQbYIIQ7Vpw"
      }
    },
    {
      "cell_type": "code",
      "source": [
        "# Load dataset\n",
        "(x_train, y_train), (x_test, y_test) = keras.datasets.mnist.load_data()\n",
        "\n",
        "# Normalize pixel values to [0,1]\n",
        "x_train, x_test = x_train / 255.0, x_test / 255.0\n",
        "\n",
        "# Flatten images (since we are using Dense layers)\n",
        "x_train = x_train.reshape(-1, 28*28)\n",
        "x_test = x_test.reshape(-1, 28*28)\n",
        "\n",
        "# Convert labels to categorical\n",
        "y_train = keras.utils.to_categorical(y_train, num_classes=10)\n",
        "y_test = keras.utils.to_categorical(y_test, num_classes=10)"
      ],
      "metadata": {
        "id": "L5J0k-2wqOW1"
      },
      "execution_count": null,
      "outputs": []
    },
    {
      "cell_type": "markdown",
      "source": [
        "2. Build and Train the Baseline Model\n",
        "\n"
      ],
      "metadata": {
        "id": "ezap8VHi7Ysm"
      }
    },
    {
      "cell_type": "code",
      "source": [
        "def build_baseline_model():\n",
        "    model = keras.Sequential([\n",
        "        layers.Dense(512, activation='relu', input_shape=(28*28,)),\n",
        "        layers.Dense(256, activation='relu'),\n",
        "        layers.Dense(128, activation='relu'),\n",
        "        layers.Dense(64, activation='relu'),\n",
        "        layers.Dense(32, activation='relu'),\n",
        "        layers.Dense(10, activation='softmax')\n",
        "    ])\n",
        "\n",
        "    model.compile(optimizer='adam',s\n",
        "                  loss='categorical_crossentropy',\n",
        "                  metrics=['accuracy'])\n",
        "    return model\n",
        "\n",
        "baseline_model = build_baseline_model()\n",
        "history_baseline = baseline_model.fit(x_train, y_train, epochs=20, validation_data=(x_test, y_test), batch_size=128)"
      ],
      "metadata": {
        "colab": {
          "base_uri": "https://localhost:8080/"
        },
        "id": "3iFAfDoMqYMA",
        "outputId": "a7828210-8bf9-4320-cb09-3f62e1903ac3"
      },
      "execution_count": null,
      "outputs": [
        {
          "output_type": "stream",
          "name": "stderr",
          "text": [
            "/usr/local/lib/python3.11/dist-packages/keras/src/layers/core/dense.py:87: UserWarning: Do not pass an `input_shape`/`input_dim` argument to a layer. When using Sequential models, prefer using an `Input(shape)` object as the first layer in the model instead.\n",
            "  super().__init__(activity_regularizer=activity_regularizer, **kwargs)\n"
          ]
        },
        {
          "output_type": "stream",
          "name": "stdout",
          "text": [
            "Epoch 1/20\n",
            "\u001b[1m469/469\u001b[0m \u001b[32m━━━━━━━━━━━━━━━━━━━━\u001b[0m\u001b[37m\u001b[0m \u001b[1m11s\u001b[0m 18ms/step - accuracy: 0.8377 - loss: 0.5266 - val_accuracy: 0.9567 - val_loss: 0.1384\n",
            "Epoch 2/20\n",
            "\u001b[1m469/469\u001b[0m \u001b[32m━━━━━━━━━━━━━━━━━━━━\u001b[0m\u001b[37m\u001b[0m \u001b[1m9s\u001b[0m 15ms/step - accuracy: 0.9702 - loss: 0.0979 - val_accuracy: 0.9704 - val_loss: 0.0914\n",
            "Epoch 3/20\n",
            "\u001b[1m469/469\u001b[0m \u001b[32m━━━━━━━━━━━━━━━━━━━━\u001b[0m\u001b[37m\u001b[0m \u001b[1m8s\u001b[0m 18ms/step - accuracy: 0.9802 - loss: 0.0634 - val_accuracy: 0.9714 - val_loss: 0.0919\n",
            "Epoch 4/20\n",
            "\u001b[1m469/469\u001b[0m \u001b[32m━━━━━━━━━━━━━━━━━━━━\u001b[0m\u001b[37m\u001b[0m \u001b[1m7s\u001b[0m 16ms/step - accuracy: 0.9862 - loss: 0.0428 - val_accuracy: 0.9700 - val_loss: 0.0962\n",
            "Epoch 5/20\n",
            "\u001b[1m469/469\u001b[0m \u001b[32m━━━━━━━━━━━━━━━━━━━━\u001b[0m\u001b[37m\u001b[0m \u001b[1m10s\u001b[0m 15ms/step - accuracy: 0.9884 - loss: 0.0336 - val_accuracy: 0.9825 - val_loss: 0.0631\n",
            "Epoch 6/20\n",
            "\u001b[1m469/469\u001b[0m \u001b[32m━━━━━━━━━━━━━━━━━━━━\u001b[0m\u001b[37m\u001b[0m \u001b[1m11s\u001b[0m 16ms/step - accuracy: 0.9914 - loss: 0.0259 - val_accuracy: 0.9806 - val_loss: 0.0690\n",
            "Epoch 7/20\n",
            "\u001b[1m469/469\u001b[0m \u001b[32m━━━━━━━━━━━━━━━━━━━━\u001b[0m\u001b[37m\u001b[0m \u001b[1m8s\u001b[0m 17ms/step - accuracy: 0.9934 - loss: 0.0214 - val_accuracy: 0.9785 - val_loss: 0.0794\n",
            "Epoch 8/20\n",
            "\u001b[1m469/469\u001b[0m \u001b[32m━━━━━━━━━━━━━━━━━━━━\u001b[0m\u001b[37m\u001b[0m \u001b[1m10s\u001b[0m 16ms/step - accuracy: 0.9933 - loss: 0.0209 - val_accuracy: 0.9832 - val_loss: 0.0628\n",
            "Epoch 9/20\n",
            "\u001b[1m469/469\u001b[0m \u001b[32m━━━━━━━━━━━━━━━━━━━━\u001b[0m\u001b[37m\u001b[0m \u001b[1m9s\u001b[0m 14ms/step - accuracy: 0.9948 - loss: 0.0164 - val_accuracy: 0.9798 - val_loss: 0.0825\n",
            "Epoch 10/20\n",
            "\u001b[1m469/469\u001b[0m \u001b[32m━━━━━━━━━━━━━━━━━━━━\u001b[0m\u001b[37m\u001b[0m \u001b[1m9s\u001b[0m 18ms/step - accuracy: 0.9946 - loss: 0.0182 - val_accuracy: 0.9826 - val_loss: 0.0661\n",
            "Epoch 11/20\n",
            "\u001b[1m469/469\u001b[0m \u001b[32m━━━━━━━━━━━━━━━━━━━━\u001b[0m\u001b[37m\u001b[0m \u001b[1m7s\u001b[0m 16ms/step - accuracy: 0.9957 - loss: 0.0136 - val_accuracy: 0.9832 - val_loss: 0.0681\n",
            "Epoch 12/20\n",
            "\u001b[1m469/469\u001b[0m \u001b[32m━━━━━━━━━━━━━━━━━━━━\u001b[0m\u001b[37m\u001b[0m \u001b[1m10s\u001b[0m 16ms/step - accuracy: 0.9951 - loss: 0.0174 - val_accuracy: 0.9791 - val_loss: 0.0961\n",
            "Epoch 13/20\n",
            "\u001b[1m469/469\u001b[0m \u001b[32m━━━━━━━━━━━━━━━━━━━━\u001b[0m\u001b[37m\u001b[0m \u001b[1m8s\u001b[0m 18ms/step - accuracy: 0.9959 - loss: 0.0130 - val_accuracy: 0.9820 - val_loss: 0.0819\n",
            "Epoch 14/20\n",
            "\u001b[1m469/469\u001b[0m \u001b[32m━━━━━━━━━━━━━━━━━━━━\u001b[0m\u001b[37m\u001b[0m \u001b[1m9s\u001b[0m 16ms/step - accuracy: 0.9959 - loss: 0.0129 - val_accuracy: 0.9794 - val_loss: 0.0866\n",
            "Epoch 15/20\n",
            "\u001b[1m469/469\u001b[0m \u001b[32m━━━━━━━━━━━━━━━━━━━━\u001b[0m\u001b[37m\u001b[0m \u001b[1m10s\u001b[0m 15ms/step - accuracy: 0.9969 - loss: 0.0103 - val_accuracy: 0.9824 - val_loss: 0.0894\n",
            "Epoch 16/20\n",
            "\u001b[1m469/469\u001b[0m \u001b[32m━━━━━━━━━━━━━━━━━━━━\u001b[0m\u001b[37m\u001b[0m \u001b[1m11s\u001b[0m 16ms/step - accuracy: 0.9964 - loss: 0.0105 - val_accuracy: 0.9792 - val_loss: 0.0893\n",
            "Epoch 17/20\n",
            "\u001b[1m469/469\u001b[0m \u001b[32m━━━━━━━━━━━━━━━━━━━━\u001b[0m\u001b[37m\u001b[0m \u001b[1m11s\u001b[0m 17ms/step - accuracy: 0.9974 - loss: 0.0087 - val_accuracy: 0.9812 - val_loss: 0.0848\n",
            "Epoch 18/20\n",
            "\u001b[1m469/469\u001b[0m \u001b[32m━━━━━━━━━━━━━━━━━━━━\u001b[0m\u001b[37m\u001b[0m \u001b[1m11s\u001b[0m 18ms/step - accuracy: 0.9965 - loss: 0.0119 - val_accuracy: 0.9815 - val_loss: 0.0843\n",
            "Epoch 19/20\n",
            "\u001b[1m469/469\u001b[0m \u001b[32m━━━━━━━━━━━━━━━━━━━━\u001b[0m\u001b[37m\u001b[0m \u001b[1m10s\u001b[0m 16ms/step - accuracy: 0.9973 - loss: 0.0098 - val_accuracy: 0.9830 - val_loss: 0.0807\n",
            "Epoch 20/20\n",
            "\u001b[1m469/469\u001b[0m \u001b[32m━━━━━━━━━━━━━━━━━━━━\u001b[0m\u001b[37m\u001b[0m \u001b[1m10s\u001b[0m 16ms/step - accuracy: 0.9981 - loss: 0.0068 - val_accuracy: 0.9813 - val_loss: 0.0925\n"
          ]
        }
      ]
    },
    {
      "cell_type": "markdown",
      "source": [
        "3. Build and Train the Model with L1 Regularization"
      ],
      "metadata": {
        "id": "pNk9Fm2j7kLG"
      }
    },
    {
      "cell_type": "code",
      "source": [
        "def build_l1_regularized_model(l1=0.01):\n",
        "    model = keras.Sequential([\n",
        "        layers.Dense(512, activation='relu', input_shape=(28*28,),\n",
        "                     kernel_regularizer=regularizers.l1(l1)),\n",
        "        layers.Dense(256, activation='relu', kernel_regularizer=regularizers.l1(l1)),\n",
        "        layers.Dense(128, activation='relu', kernel_regularizer=regularizers.l1(l1)),\n",
        "        layers.Dense(64, activation='relu', kernel_regularizer=regularizers.l1(l1)),\n",
        "        layers.Dense(32, activation='relu', kernel_regularizer=regularizers.l1(l1)),\n",
        "        layers.Dense(10, activation='softmax')\n",
        "    ])\n",
        "\n",
        "    model.compile(optimizer='adam',\n",
        "                  loss='categorical_crossentropy',\n",
        "                  metrics=['accuracy'])\n",
        "    return model\n",
        "\n",
        "# Train the L1-regularized model\n",
        "l1_model = build_l1_regularized_model(l1=0.01)\n",
        "history_l1 = l1_model.fit(x_train, y_train, epochs=20, validation_data=(x_test, y_test), batch_size=128)\n"
      ],
      "metadata": {
        "colab": {
          "base_uri": "https://localhost:8080/"
        },
        "id": "JSBtDkgg27Fl",
        "outputId": "934354dd-58b9-45b7-82ef-cfc5dc090cac"
      },
      "execution_count": null,
      "outputs": [
        {
          "output_type": "stream",
          "name": "stderr",
          "text": [
            "/usr/local/lib/python3.11/dist-packages/keras/src/layers/core/dense.py:87: UserWarning: Do not pass an `input_shape`/`input_dim` argument to a layer. When using Sequential models, prefer using an `Input(shape)` object as the first layer in the model instead.\n",
            "  super().__init__(activity_regularizer=activity_regularizer, **kwargs)\n"
          ]
        },
        {
          "output_type": "stream",
          "name": "stdout",
          "text": [
            "Epoch 1/20\n",
            "\u001b[1m469/469\u001b[0m \u001b[32m━━━━━━━━━━━━━━━━━━━━\u001b[0m\u001b[37m\u001b[0m \u001b[1m12s\u001b[0m 20ms/step - accuracy: 0.1276 - loss: 51.3612 - val_accuracy: 0.1135 - val_loss: 3.0173\n",
            "Epoch 2/20\n",
            "\u001b[1m469/469\u001b[0m \u001b[32m━━━━━━━━━━━━━━━━━━━━\u001b[0m\u001b[37m\u001b[0m \u001b[1m11s\u001b[0m 21ms/step - accuracy: 0.1128 - loss: 3.0162 - val_accuracy: 0.1135 - val_loss: 3.0150\n",
            "Epoch 3/20\n",
            "\u001b[1m469/469\u001b[0m \u001b[32m━━━━━━━━━━━━━━━━━━━━\u001b[0m\u001b[37m\u001b[0m \u001b[1m8s\u001b[0m 17ms/step - accuracy: 0.1139 - loss: 3.0159 - val_accuracy: 0.1135 - val_loss: 3.0114\n",
            "Epoch 4/20\n",
            "\u001b[1m469/469\u001b[0m \u001b[32m━━━━━━━━━━━━━━━━━━━━\u001b[0m\u001b[37m\u001b[0m \u001b[1m9s\u001b[0m 20ms/step - accuracy: 0.1141 - loss: 3.0158 - val_accuracy: 0.1135 - val_loss: 3.0143\n",
            "Epoch 5/20\n",
            "\u001b[1m469/469\u001b[0m \u001b[32m━━━━━━━━━━━━━━━━━━━━\u001b[0m\u001b[37m\u001b[0m \u001b[1m11s\u001b[0m 20ms/step - accuracy: 0.1119 - loss: 3.0164 - val_accuracy: 0.1135 - val_loss: 3.0164\n",
            "Epoch 6/20\n",
            "\u001b[1m469/469\u001b[0m \u001b[32m━━━━━━━━━━━━━━━━━━━━\u001b[0m\u001b[37m\u001b[0m \u001b[1m8s\u001b[0m 16ms/step - accuracy: 0.1128 - loss: 3.0164 - val_accuracy: 0.1135 - val_loss: 3.0202\n",
            "Epoch 7/20\n",
            "\u001b[1m469/469\u001b[0m \u001b[32m━━━━━━━━━━━━━━━━━━━━\u001b[0m\u001b[37m\u001b[0m \u001b[1m9s\u001b[0m 19ms/step - accuracy: 0.1113 - loss: 3.0163 - val_accuracy: 0.1135 - val_loss: 3.0177\n",
            "Epoch 8/20\n",
            "\u001b[1m469/469\u001b[0m \u001b[32m━━━━━━━━━━━━━━━━━━━━\u001b[0m\u001b[37m\u001b[0m \u001b[1m11s\u001b[0m 21ms/step - accuracy: 0.1112 - loss: 3.0163 - val_accuracy: 0.1135 - val_loss: 3.0135\n",
            "Epoch 9/20\n",
            "\u001b[1m469/469\u001b[0m \u001b[32m━━━━━━━━━━━━━━━━━━━━\u001b[0m\u001b[37m\u001b[0m \u001b[1m9s\u001b[0m 18ms/step - accuracy: 0.1139 - loss: 3.0160 - val_accuracy: 0.1135 - val_loss: 3.0160\n",
            "Epoch 10/20\n",
            "\u001b[1m469/469\u001b[0m \u001b[32m━━━━━━━━━━━━━━━━━━━━\u001b[0m\u001b[37m\u001b[0m \u001b[1m10s\u001b[0m 16ms/step - accuracy: 0.1145 - loss: 3.0153 - val_accuracy: 0.1135 - val_loss: 3.0143\n",
            "Epoch 11/20\n",
            "\u001b[1m469/469\u001b[0m \u001b[32m━━━━━━━━━━━━━━━━━━━━\u001b[0m\u001b[37m\u001b[0m \u001b[1m9s\u001b[0m 20ms/step - accuracy: 0.1142 - loss: 3.0157 - val_accuracy: 0.1135 - val_loss: 3.0140\n",
            "Epoch 12/20\n",
            "\u001b[1m469/469\u001b[0m \u001b[32m━━━━━━━━━━━━━━━━━━━━\u001b[0m\u001b[37m\u001b[0m \u001b[1m10s\u001b[0m 20ms/step - accuracy: 0.1118 - loss: 3.0161 - val_accuracy: 0.1135 - val_loss: 3.0180\n",
            "Epoch 13/20\n",
            "\u001b[1m469/469\u001b[0m \u001b[32m━━━━━━━━━━━━━━━━━━━━\u001b[0m\u001b[37m\u001b[0m \u001b[1m8s\u001b[0m 16ms/step - accuracy: 0.1140 - loss: 3.0156 - val_accuracy: 0.1135 - val_loss: 3.0151\n",
            "Epoch 14/20\n",
            "\u001b[1m469/469\u001b[0m \u001b[32m━━━━━━━━━━━━━━━━━━━━\u001b[0m\u001b[37m\u001b[0m \u001b[1m12s\u001b[0m 19ms/step - accuracy: 0.1124 - loss: 3.0160 - val_accuracy: 0.1135 - val_loss: 3.0151\n",
            "Epoch 15/20\n",
            "\u001b[1m469/469\u001b[0m \u001b[32m━━━━━━━━━━━━━━━━━━━━\u001b[0m\u001b[37m\u001b[0m \u001b[1m11s\u001b[0m 21ms/step - accuracy: 0.1104 - loss: 3.0160 - val_accuracy: 0.1135 - val_loss: 3.0146\n",
            "Epoch 16/20\n",
            "\u001b[1m469/469\u001b[0m \u001b[32m━━━━━━━━━━━━━━━━━━━━\u001b[0m\u001b[37m\u001b[0m \u001b[1m10s\u001b[0m 20ms/step - accuracy: 0.1120 - loss: 3.0157 - val_accuracy: 0.1135 - val_loss: 3.0151\n",
            "Epoch 17/20\n",
            "\u001b[1m469/469\u001b[0m \u001b[32m━━━━━━━━━━━━━━━━━━━━\u001b[0m\u001b[37m\u001b[0m \u001b[1m9s\u001b[0m 17ms/step - accuracy: 0.1162 - loss: 3.0154 - val_accuracy: 0.1135 - val_loss: 3.0160\n",
            "Epoch 18/20\n",
            "\u001b[1m469/469\u001b[0m \u001b[32m━━━━━━━━━━━━━━━━━━━━\u001b[0m\u001b[37m\u001b[0m \u001b[1m9s\u001b[0m 19ms/step - accuracy: 0.1108 - loss: 3.0162 - val_accuracy: 0.1135 - val_loss: 3.0190\n",
            "Epoch 19/20\n",
            "\u001b[1m469/469\u001b[0m \u001b[32m━━━━━━━━━━━━━━━━━━━━\u001b[0m\u001b[37m\u001b[0m \u001b[1m10s\u001b[0m 19ms/step - accuracy: 0.1120 - loss: 3.0158 - val_accuracy: 0.1135 - val_loss: 3.0140\n",
            "Epoch 20/20\n",
            "\u001b[1m469/469\u001b[0m \u001b[32m━━━━━━━━━━━━━━━━━━━━\u001b[0m\u001b[37m\u001b[0m \u001b[1m9s\u001b[0m 16ms/step - accuracy: 0.1128 - loss: 3.0158 - val_accuracy: 0.1135 - val_loss: 3.0138\n"
          ]
        }
      ]
    },
    {
      "cell_type": "markdown",
      "source": [
        "4. Build and Train the Model with L2 Regularization"
      ],
      "metadata": {
        "id": "lULS0gx-7o-4"
      }
    },
    {
      "cell_type": "code",
      "source": [
        "def build_l2_regularized_model(l2=0.01):\n",
        "    model = keras.Sequential([\n",
        "        layers.Dense(512, activation='relu', input_shape=(28*28,),\n",
        "                     kernel_regularizer=regularizers.l2(l2)),\n",
        "        layers.Dense(256, activation='relu', kernel_regularizer=regularizers.l2(l2)),\n",
        "        layers.Dense(128, activation='relu', kernel_regularizer=regularizers.l2(l2)),\n",
        "        layers.Dense(64, activation='relu', kernel_regularizer=regularizers.l2(l2)),\n",
        "        layers.Dense(32, activation='relu', kernel_regularizer=regularizers.l2(l2)),\n",
        "        layers.Dense(10, activation='softmax')\n",
        "    ])\n",
        "\n",
        "    model.compile(optimizer='adam',\n",
        "                  loss='categorical_crossentropy',\n",
        "                  metrics=['accuracy'])\n",
        "    return model\n",
        "\n",
        "# Train the L2-regularized model\n",
        "l2_model = build_l2_regularized_model(l2=0.01)\n",
        "history_l2 = l2_model.fit(x_train, y_train, epochs=20, validation_data=(x_test, y_test), batch_size=128)\n"
      ],
      "metadata": {
        "colab": {
          "base_uri": "https://localhost:8080/"
        },
        "id": "R64qzaPO6o8g",
        "outputId": "c82ec5e9-75e2-4f33-acd5-1853d35ef0cb"
      },
      "execution_count": null,
      "outputs": [
        {
          "output_type": "stream",
          "name": "stdout",
          "text": [
            "Epoch 1/20\n",
            "\u001b[1m469/469\u001b[0m \u001b[32m━━━━━━━━━━━━━━━━━━━━\u001b[0m\u001b[37m\u001b[0m \u001b[1m13s\u001b[0m 22ms/step - accuracy: 0.7927 - loss: 4.4869 - val_accuracy: 0.9066 - val_loss: 1.0508\n",
            "Epoch 2/20\n",
            "\u001b[1m469/469\u001b[0m \u001b[32m━━━━━━━━━━━━━━━━━━━━\u001b[0m\u001b[37m\u001b[0m \u001b[1m9s\u001b[0m 18ms/step - accuracy: 0.9168 - loss: 0.9791 - val_accuracy: 0.9254 - val_loss: 0.8155\n",
            "Epoch 3/20\n",
            "\u001b[1m469/469\u001b[0m \u001b[32m━━━━━━━━━━━━━━━━━━━━\u001b[0m\u001b[37m\u001b[0m \u001b[1m11s\u001b[0m 19ms/step - accuracy: 0.9294 - loss: 0.7952 - val_accuracy: 0.9344 - val_loss: 0.7204\n",
            "Epoch 4/20\n",
            "\u001b[1m469/469\u001b[0m \u001b[32m━━━━━━━━━━━━━━━━━━━━\u001b[0m\u001b[37m\u001b[0m \u001b[1m11s\u001b[0m 22ms/step - accuracy: 0.9338 - loss: 0.7174 - val_accuracy: 0.9430 - val_loss: 0.6572\n",
            "Epoch 5/20\n",
            "\u001b[1m469/469\u001b[0m \u001b[32m━━━━━━━━━━━━━━━━━━━━\u001b[0m\u001b[37m\u001b[0m \u001b[1m10s\u001b[0m 21ms/step - accuracy: 0.9399 - loss: 0.6620 - val_accuracy: 0.9396 - val_loss: 0.6414\n",
            "Epoch 6/20\n",
            "\u001b[1m469/469\u001b[0m \u001b[32m━━━━━━━━━━━━━━━━━━━━\u001b[0m\u001b[37m\u001b[0m \u001b[1m9s\u001b[0m 18ms/step - accuracy: 0.9422 - loss: 0.6369 - val_accuracy: 0.9391 - val_loss: 0.6297\n",
            "Epoch 7/20\n",
            "\u001b[1m469/469\u001b[0m \u001b[32m━━━━━━━━━━━━━━━━━━━━\u001b[0m\u001b[37m\u001b[0m \u001b[1m10s\u001b[0m 17ms/step - accuracy: 0.9441 - loss: 0.6130 - val_accuracy: 0.9482 - val_loss: 0.5816\n",
            "Epoch 8/20\n",
            "\u001b[1m469/469\u001b[0m \u001b[32m━━━━━━━━━━━━━━━━━━━━\u001b[0m\u001b[37m\u001b[0m \u001b[1m11s\u001b[0m 19ms/step - accuracy: 0.9464 - loss: 0.5874 - val_accuracy: 0.9412 - val_loss: 0.5905\n",
            "Epoch 9/20\n",
            "\u001b[1m469/469\u001b[0m \u001b[32m━━━━━━━━━━━━━━━━━━━━\u001b[0m\u001b[37m\u001b[0m \u001b[1m11s\u001b[0m 23ms/step - accuracy: 0.9474 - loss: 0.5742 - val_accuracy: 0.9487 - val_loss: 0.5458\n",
            "Epoch 10/20\n",
            "\u001b[1m469/469\u001b[0m \u001b[32m━━━━━━━━━━━━━━━━━━━━\u001b[0m\u001b[37m\u001b[0m \u001b[1m17s\u001b[0m 16ms/step - accuracy: 0.9469 - loss: 0.5606 - val_accuracy: 0.9486 - val_loss: 0.5429\n",
            "Epoch 11/20\n",
            "\u001b[1m469/469\u001b[0m \u001b[32m━━━━━━━━━━━━━━━━━━━━\u001b[0m\u001b[37m\u001b[0m \u001b[1m9s\u001b[0m 19ms/step - accuracy: 0.9506 - loss: 0.5380 - val_accuracy: 0.9508 - val_loss: 0.5277\n",
            "Epoch 12/20\n",
            "\u001b[1m469/469\u001b[0m \u001b[32m━━━━━━━━━━━━━━━━━━━━\u001b[0m\u001b[37m\u001b[0m \u001b[1m10s\u001b[0m 22ms/step - accuracy: 0.9516 - loss: 0.5283 - val_accuracy: 0.9553 - val_loss: 0.5027\n",
            "Epoch 13/20\n",
            "\u001b[1m469/469\u001b[0m \u001b[32m━━━━━━━━━━━━━━━━━━━━\u001b[0m\u001b[37m\u001b[0m \u001b[1m9s\u001b[0m 18ms/step - accuracy: 0.9519 - loss: 0.5175 - val_accuracy: 0.9494 - val_loss: 0.5135\n",
            "Epoch 14/20\n",
            "\u001b[1m469/469\u001b[0m \u001b[32m━━━━━━━━━━━━━━━━━━━━\u001b[0m\u001b[37m\u001b[0m \u001b[1m11s\u001b[0m 20ms/step - accuracy: 0.9508 - loss: 0.5154 - val_accuracy: 0.9551 - val_loss: 0.4892\n",
            "Epoch 15/20\n",
            "\u001b[1m469/469\u001b[0m \u001b[32m━━━━━━━━━━━━━━━━━━━━\u001b[0m\u001b[37m\u001b[0m \u001b[1m11s\u001b[0m 22ms/step - accuracy: 0.9554 - loss: 0.4928 - val_accuracy: 0.9515 - val_loss: 0.4934\n",
            "Epoch 16/20\n",
            "\u001b[1m469/469\u001b[0m \u001b[32m━━━━━━━━━━━━━━━━━━━━\u001b[0m\u001b[37m\u001b[0m \u001b[1m10s\u001b[0m 20ms/step - accuracy: 0.9537 - loss: 0.4925 - val_accuracy: 0.9540 - val_loss: 0.4807\n",
            "Epoch 17/20\n",
            "\u001b[1m469/469\u001b[0m \u001b[32m━━━━━━━━━━━━━━━━━━━━\u001b[0m\u001b[37m\u001b[0m \u001b[1m9s\u001b[0m 17ms/step - accuracy: 0.9558 - loss: 0.4796 - val_accuracy: 0.9467 - val_loss: 0.4916\n",
            "Epoch 18/20\n",
            "\u001b[1m469/469\u001b[0m \u001b[32m━━━━━━━━━━━━━━━━━━━━\u001b[0m\u001b[37m\u001b[0m \u001b[1m11s\u001b[0m 19ms/step - accuracy: 0.9538 - loss: 0.4818 - val_accuracy: 0.9552 - val_loss: 0.4710\n",
            "Epoch 19/20\n",
            "\u001b[1m469/469\u001b[0m \u001b[32m━━━━━━━━━━━━━━━━━━━━\u001b[0m\u001b[37m\u001b[0m \u001b[1m11s\u001b[0m 21ms/step - accuracy: 0.9559 - loss: 0.4720 - val_accuracy: 0.9478 - val_loss: 0.4844\n",
            "Epoch 20/20\n",
            "\u001b[1m469/469\u001b[0m \u001b[32m━━━━━━━━━━━━━━━━━━━━\u001b[0m\u001b[37m\u001b[0m \u001b[1m10s\u001b[0m 21ms/step - accuracy: 0.9548 - loss: 0.4674 - val_accuracy: 0.9530 - val_loss: 0.4712\n"
          ]
        }
      ]
    },
    {
      "cell_type": "markdown",
      "source": [
        "5. Build and Train the Model with Both L1 and L2 Regularization"
      ],
      "metadata": {
        "id": "4DsbrPIW7sbE"
      }
    },
    {
      "cell_type": "code",
      "source": [
        "def build_l1_l2_regularized_model(l1=0.01, l2=0.01):\n",
        "    model = keras.Sequential([\n",
        "        layers.Dense(512, activation='relu', input_shape=(28*28,),\n",
        "                     kernel_regularizer=regularizers.l1_l2(l1=l1, l2=l2)),\n",
        "        layers.Dense(256, activation='relu', kernel_regularizer=regularizers.l1_l2(l1=l1, l2=l2)),\n",
        "        layers.Dense(128, activation='relu', kernel_regularizer=regularizers.l1_l2(l1=l1, l2=l2)),\n",
        "        layers.Dense(64, activation='relu', kernel_regularizer=regularizers.l1_l2(l1=l1, l2=l2)),\n",
        "        layers.Dense(32, activation='relu', kernel_regularizer=regularizers.l1_l2(l1=l1, l2=l2)),\n",
        "        layers.Dense(10, activation='softmax')\n",
        "    ])\n",
        "\n",
        "    model.compile(optimizer='adam',\n",
        "                  loss='categorical_crossentropy',\n",
        "                  metrics=['accuracy'])\n",
        "    return model\n",
        "\n",
        "# Train the L1 + L2 regularized model\n",
        "l1_l2_model = build_l1_l2_regularized_model(l1=0.01, l2=0.01)\n",
        "history_l1_l2 = l1_l2_model.fit(x_train, y_train, epochs=20, validation_data=(x_test, y_test), batch_size=128)\n"
      ],
      "metadata": {
        "colab": {
          "base_uri": "https://localhost:8080/"
        },
        "id": "qrZibS9T6sG2",
        "outputId": "ba6073d2-6207-4995-e8ea-3f1387b13649"
      },
      "execution_count": null,
      "outputs": [
        {
          "output_type": "stream",
          "name": "stdout",
          "text": [
            "Epoch 1/20\n",
            "\u001b[1m469/469\u001b[0m \u001b[32m━━━━━━━━━━━━━━━━━━━━\u001b[0m\u001b[37m\u001b[0m \u001b[1m12s\u001b[0m 20ms/step - accuracy: 0.1182 - loss: 53.8829 - val_accuracy: 0.1135 - val_loss: 3.0189\n",
            "Epoch 2/20\n",
            "\u001b[1m469/469\u001b[0m \u001b[32m━━━━━━━━━━━━━━━━━━━━\u001b[0m\u001b[37m\u001b[0m \u001b[1m10s\u001b[0m 20ms/step - accuracy: 0.1124 - loss: 3.0119 - val_accuracy: 0.1135 - val_loss: 2.9998\n",
            "Epoch 3/20\n",
            "\u001b[1m469/469\u001b[0m \u001b[32m━━━━━━━━━━━━━━━━━━━━\u001b[0m\u001b[37m\u001b[0m \u001b[1m10s\u001b[0m 22ms/step - accuracy: 0.1124 - loss: 3.0003 - val_accuracy: 0.1135 - val_loss: 3.0052\n",
            "Epoch 4/20\n",
            "\u001b[1m469/469\u001b[0m \u001b[32m━━━━━━━━━━━━━━━━━━━━\u001b[0m\u001b[37m\u001b[0m \u001b[1m10s\u001b[0m 20ms/step - accuracy: 0.1145 - loss: 3.0049 - val_accuracy: 0.1135 - val_loss: 3.0051\n",
            "Epoch 5/20\n",
            "\u001b[1m469/469\u001b[0m \u001b[32m━━━━━━━━━━━━━━━━━━━━\u001b[0m\u001b[37m\u001b[0m \u001b[1m11s\u001b[0m 22ms/step - accuracy: 0.1129 - loss: 3.0111 - val_accuracy: 0.1135 - val_loss: 3.0228\n",
            "Epoch 6/20\n",
            "\u001b[1m469/469\u001b[0m \u001b[32m━━━━━━━━━━━━━━━━━━━━\u001b[0m\u001b[37m\u001b[0m \u001b[1m21s\u001b[0m 23ms/step - accuracy: 0.1114 - loss: 3.0251 - val_accuracy: 0.1135 - val_loss: 3.0280\n",
            "Epoch 7/20\n",
            "\u001b[1m469/469\u001b[0m \u001b[32m━━━━━━━━━━━━━━━━━━━━\u001b[0m\u001b[37m\u001b[0m \u001b[1m10s\u001b[0m 22ms/step - accuracy: 0.1121 - loss: 3.0260 - val_accuracy: 0.1135 - val_loss: 3.0289\n",
            "Epoch 8/20\n",
            "\u001b[1m469/469\u001b[0m \u001b[32m━━━━━━━━━━━━━━━━━━━━\u001b[0m\u001b[37m\u001b[0m \u001b[1m9s\u001b[0m 19ms/step - accuracy: 0.1110 - loss: 3.0267 - val_accuracy: 0.1135 - val_loss: 3.0275\n",
            "Epoch 9/20\n",
            "\u001b[1m469/469\u001b[0m \u001b[32m━━━━━━━━━━━━━━━━━━━━\u001b[0m\u001b[37m\u001b[0m \u001b[1m11s\u001b[0m 19ms/step - accuracy: 0.1121 - loss: 3.0273 - val_accuracy: 0.1135 - val_loss: 3.0248\n",
            "Epoch 10/20\n",
            "\u001b[1m469/469\u001b[0m \u001b[32m━━━━━━━━━━━━━━━━━━━━\u001b[0m\u001b[37m\u001b[0m \u001b[1m12s\u001b[0m 23ms/step - accuracy: 0.1123 - loss: 3.0269 - val_accuracy: 0.1135 - val_loss: 3.0252\n",
            "Epoch 11/20\n",
            "\u001b[1m469/469\u001b[0m \u001b[32m━━━━━━━━━━━━━━━━━━━━\u001b[0m\u001b[37m\u001b[0m \u001b[1m20s\u001b[0m 21ms/step - accuracy: 0.1126 - loss: 3.0269 - val_accuracy: 0.1135 - val_loss: 3.0270\n",
            "Epoch 12/20\n",
            "\u001b[1m469/469\u001b[0m \u001b[32m━━━━━━━━━━━━━━━━━━━━\u001b[0m\u001b[37m\u001b[0m \u001b[1m10s\u001b[0m 20ms/step - accuracy: 0.1130 - loss: 3.0270 - val_accuracy: 0.1135 - val_loss: 3.0282\n",
            "Epoch 13/20\n",
            "\u001b[1m469/469\u001b[0m \u001b[32m━━━━━━━━━━━━━━━━━━━━\u001b[0m\u001b[37m\u001b[0m \u001b[1m9s\u001b[0m 17ms/step - accuracy: 0.1122 - loss: 3.0270 - val_accuracy: 0.1135 - val_loss: 3.0277\n",
            "Epoch 14/20\n",
            "\u001b[1m469/469\u001b[0m \u001b[32m━━━━━━━━━━━━━━━━━━━━\u001b[0m\u001b[37m\u001b[0m \u001b[1m13s\u001b[0m 23ms/step - accuracy: 0.1120 - loss: 3.0271 - val_accuracy: 0.1135 - val_loss: 3.0276\n",
            "Epoch 15/20\n",
            "\u001b[1m469/469\u001b[0m \u001b[32m━━━━━━━━━━━━━━━━━━━━\u001b[0m\u001b[37m\u001b[0m \u001b[1m21s\u001b[0m 23ms/step - accuracy: 0.1117 - loss: 3.0270 - val_accuracy: 0.1135 - val_loss: 3.0255\n",
            "Epoch 16/20\n",
            "\u001b[1m469/469\u001b[0m \u001b[32m━━━━━━━━━━━━━━━━━━━━\u001b[0m\u001b[37m\u001b[0m \u001b[1m20s\u001b[0m 22ms/step - accuracy: 0.1129 - loss: 3.0270 - val_accuracy: 0.1135 - val_loss: 3.0249\n",
            "Epoch 17/20\n",
            "\u001b[1m469/469\u001b[0m \u001b[32m━━━━━━━━━━━━━━━━━━━━\u001b[0m\u001b[37m\u001b[0m \u001b[1m19s\u001b[0m 19ms/step - accuracy: 0.1130 - loss: 3.0269 - val_accuracy: 0.1135 - val_loss: 3.0258\n",
            "Epoch 18/20\n",
            "\u001b[1m469/469\u001b[0m \u001b[32m━━━━━━━━━━━━━━━━━━━━\u001b[0m\u001b[37m\u001b[0m \u001b[1m12s\u001b[0m 22ms/step - accuracy: 0.1109 - loss: 3.0274 - val_accuracy: 0.1135 - val_loss: 3.0287\n",
            "Epoch 19/20\n",
            "\u001b[1m469/469\u001b[0m \u001b[32m━━━━━━━━━━━━━━━━━━━━\u001b[0m\u001b[37m\u001b[0m \u001b[1m9s\u001b[0m 20ms/step - accuracy: 0.1112 - loss: 3.0273 - val_accuracy: 0.1135 - val_loss: 3.0275\n",
            "Epoch 20/20\n",
            "\u001b[1m469/469\u001b[0m \u001b[32m━━━━━━━━━━━━━━━━━━━━\u001b[0m\u001b[37m\u001b[0m \u001b[1m10s\u001b[0m 19ms/step - accuracy: 0.1121 - loss: 3.0270 - val_accuracy: 0.1135 - val_loss: 3.0241\n"
          ]
        }
      ]
    },
    {
      "cell_type": "markdown",
      "source": [
        "6. Experiment with Different Regularization Strengths"
      ],
      "metadata": {
        "id": "wymYirRh70WO"
      }
    },
    {
      "cell_type": "code",
      "source": [
        "# Experimenting with different values\n",
        "l1_model = build_l1_regularized_model(l1=0.1)\n",
        "history_l1 = l1_model.fit(x_train, y_train, epochs=20, validation_data=(x_test, y_test), batch_size=128)\n",
        "\n",
        "l2_model = build_l2_regularized_model(l2=0.1)\n",
        "history_l2 = l2_model.fit(x_train, y_train, epochs=20, validation_data=(x_test, y_test), batch_size=128)\n",
        "\n",
        "l1_l2_model = build_l1_l2_regularized_model(l1=0.1, l2=0.1)\n",
        "history_l1_l2 = l1_l2_model.fit(x_train, y_train, epochs=20, validation_data=(x_test, y_test), batch_size=128)\n"
      ],
      "metadata": {
        "colab": {
          "base_uri": "https://localhost:8080/"
        },
        "id": "fZUYz6A-6uoU",
        "outputId": "cc12a669-b39c-4096-d397-fa64cbfe6141"
      },
      "execution_count": null,
      "outputs": [
        {
          "output_type": "stream",
          "name": "stdout",
          "text": [
            "Epoch 1/20\n",
            "\u001b[1m469/469\u001b[0m \u001b[32m━━━━━━━━━━━━━━━━━━━━\u001b[0m\u001b[37m\u001b[0m \u001b[1m14s\u001b[0m 23ms/step - accuracy: 0.1236 - loss: 492.0521 - val_accuracy: 0.1135 - val_loss: 9.4645\n",
            "Epoch 2/20\n",
            "\u001b[1m469/469\u001b[0m \u001b[32m━━━━━━━━━━━━━━━━━━━━\u001b[0m\u001b[37m\u001b[0m \u001b[1m17s\u001b[0m 16ms/step - accuracy: 0.1111 - loss: 9.4500 - val_accuracy: 0.1135 - val_loss: 9.4219\n",
            "Epoch 3/20\n",
            "\u001b[1m469/469\u001b[0m \u001b[32m━━━━━━━━━━━━━━━━━━━━\u001b[0m\u001b[37m\u001b[0m \u001b[1m10s\u001b[0m 21ms/step - accuracy: 0.1122 - loss: 9.4501 - val_accuracy: 0.1135 - val_loss: 9.3969\n",
            "Epoch 4/20\n",
            "\u001b[1m469/469\u001b[0m \u001b[32m━━━━━━━━━━━━━━━━━━━━\u001b[0m\u001b[37m\u001b[0m \u001b[1m11s\u001b[0m 22ms/step - accuracy: 0.1109 - loss: 9.4495 - val_accuracy: 0.1135 - val_loss: 9.4166\n",
            "Epoch 5/20\n",
            "\u001b[1m469/469\u001b[0m \u001b[32m━━━━━━━━━━━━━━━━━━━━\u001b[0m\u001b[37m\u001b[0m \u001b[1m19s\u001b[0m 20ms/step - accuracy: 0.1118 - loss: 9.4501 - val_accuracy: 0.1135 - val_loss: 9.4763\n",
            "Epoch 6/20\n",
            "\u001b[1m469/469\u001b[0m \u001b[32m━━━━━━━━━━━━━━━━━━━━\u001b[0m\u001b[37m\u001b[0m \u001b[1m10s\u001b[0m 20ms/step - accuracy: 0.1130 - loss: 9.4521 - val_accuracy: 0.1135 - val_loss: 9.5369\n",
            "Epoch 7/20\n",
            "\u001b[1m469/469\u001b[0m \u001b[32m━━━━━━━━━━━━━━━━━━━━\u001b[0m\u001b[37m\u001b[0m \u001b[1m10s\u001b[0m 21ms/step - accuracy: 0.1100 - loss: 9.4514 - val_accuracy: 0.1135 - val_loss: 9.4955\n",
            "Epoch 8/20\n",
            "\u001b[1m469/469\u001b[0m \u001b[32m━━━━━━━━━━━━━━━━━━━━\u001b[0m\u001b[37m\u001b[0m \u001b[1m9s\u001b[0m 19ms/step - accuracy: 0.1140 - loss: 9.4488 - val_accuracy: 0.1135 - val_loss: 9.4270\n",
            "Epoch 9/20\n",
            "\u001b[1m469/469\u001b[0m \u001b[32m━━━━━━━━━━━━━━━━━━━━\u001b[0m\u001b[37m\u001b[0m \u001b[1m10s\u001b[0m 19ms/step - accuracy: 0.1137 - loss: 9.4492 - val_accuracy: 0.1135 - val_loss: 9.4286\n",
            "Epoch 10/20\n",
            "\u001b[1m469/469\u001b[0m \u001b[32m━━━━━━━━━━━━━━━━━━━━\u001b[0m\u001b[37m\u001b[0m \u001b[1m11s\u001b[0m 20ms/step - accuracy: 0.1135 - loss: 9.4481 - val_accuracy: 0.1135 - val_loss: 9.4150\n",
            "Epoch 11/20\n",
            "\u001b[1m469/469\u001b[0m \u001b[32m━━━━━━━━━━━━━━━━━━━━\u001b[0m\u001b[37m\u001b[0m \u001b[1m8s\u001b[0m 17ms/step - accuracy: 0.1143 - loss: 9.4494 - val_accuracy: 0.1135 - val_loss: 9.4370\n",
            "Epoch 12/20\n",
            "\u001b[1m469/469\u001b[0m \u001b[32m━━━━━━━━━━━━━━━━━━━━\u001b[0m\u001b[37m\u001b[0m \u001b[1m11s\u001b[0m 18ms/step - accuracy: 0.1124 - loss: 9.4487 - val_accuracy: 0.1135 - val_loss: 9.4962\n",
            "Epoch 13/20\n",
            "\u001b[1m469/469\u001b[0m \u001b[32m━━━━━━━━━━━━━━━━━━━━\u001b[0m\u001b[37m\u001b[0m \u001b[1m10s\u001b[0m 22ms/step - accuracy: 0.1129 - loss: 9.4487 - val_accuracy: 0.1135 - val_loss: 9.4202\n",
            "Epoch 14/20\n",
            "\u001b[1m469/469\u001b[0m \u001b[32m━━━━━━━━━━━━━━━━━━━━\u001b[0m\u001b[37m\u001b[0m \u001b[1m21s\u001b[0m 23ms/step - accuracy: 0.1106 - loss: 9.4488 - val_accuracy: 0.1135 - val_loss: 9.4254\n",
            "Epoch 15/20\n",
            "\u001b[1m469/469\u001b[0m \u001b[32m━━━━━━━━━━━━━━━━━━━━\u001b[0m\u001b[37m\u001b[0m \u001b[1m19s\u001b[0m 19ms/step - accuracy: 0.1134 - loss: 9.4483 - val_accuracy: 0.1135 - val_loss: 9.4324\n",
            "Epoch 16/20\n",
            "\u001b[1m469/469\u001b[0m \u001b[32m━━━━━━━━━━━━━━━━━━━━\u001b[0m\u001b[37m\u001b[0m \u001b[1m10s\u001b[0m 19ms/step - accuracy: 0.1133 - loss: 9.4479 - val_accuracy: 0.1135 - val_loss: 9.4531\n",
            "Epoch 17/20\n",
            "\u001b[1m469/469\u001b[0m \u001b[32m━━━━━━━━━━━━━━━━━━━━\u001b[0m\u001b[37m\u001b[0m \u001b[1m10s\u001b[0m 21ms/step - accuracy: 0.1124 - loss: 9.4496 - val_accuracy: 0.1135 - val_loss: 9.4764\n",
            "Epoch 18/20\n",
            "\u001b[1m469/469\u001b[0m \u001b[32m━━━━━━━━━━━━━━━━━━━━\u001b[0m\u001b[37m\u001b[0m \u001b[1m8s\u001b[0m 16ms/step - accuracy: 0.1148 - loss: 9.4503 - val_accuracy: 0.1135 - val_loss: 9.5060\n",
            "Epoch 19/20\n",
            "\u001b[1m469/469\u001b[0m \u001b[32m━━━━━━━━━━━━━━━━━━━━\u001b[0m\u001b[37m\u001b[0m \u001b[1m13s\u001b[0m 21ms/step - accuracy: 0.1123 - loss: 9.4504 - val_accuracy: 0.1135 - val_loss: 9.4416\n",
            "Epoch 20/20\n",
            "\u001b[1m469/469\u001b[0m \u001b[32m━━━━━━━━━━━━━━━━━━━━\u001b[0m\u001b[37m\u001b[0m \u001b[1m10s\u001b[0m 22ms/step - accuracy: 0.1122 - loss: 9.4477 - val_accuracy: 0.1135 - val_loss: 9.4085\n",
            "Epoch 1/20\n",
            "\u001b[1m469/469\u001b[0m \u001b[32m━━━━━━━━━━━━━━━━━━━━\u001b[0m\u001b[37m\u001b[0m \u001b[1m13s\u001b[0m 22ms/step - accuracy: 0.1900 - loss: 27.0369 - val_accuracy: 0.1135 - val_loss: 2.3022\n",
            "Epoch 2/20\n",
            "\u001b[1m469/469\u001b[0m \u001b[32m━━━━━━━━━━━━━━━━━━━━\u001b[0m\u001b[37m\u001b[0m \u001b[1m8s\u001b[0m 16ms/step - accuracy: 0.1116 - loss: 2.3016 - val_accuracy: 0.1135 - val_loss: 2.3015\n",
            "Epoch 3/20\n",
            "\u001b[1m469/469\u001b[0m \u001b[32m━━━━━━━━━━━━━━━━━━━━\u001b[0m\u001b[37m\u001b[0m \u001b[1m12s\u001b[0m 19ms/step - accuracy: 0.1131 - loss: 2.3010 - val_accuracy: 0.1135 - val_loss: 2.3011\n",
            "Epoch 4/20\n",
            "\u001b[1m469/469\u001b[0m \u001b[32m━━━━━━━━━━━━━━━━━━━━\u001b[0m\u001b[37m\u001b[0m \u001b[1m10s\u001b[0m 20ms/step - accuracy: 0.1145 - loss: 2.3011 - val_accuracy: 0.1135 - val_loss: 2.3010\n",
            "Epoch 5/20\n",
            "\u001b[1m469/469\u001b[0m \u001b[32m━━━━━━━━━━━━━━━━━━━━\u001b[0m\u001b[37m\u001b[0m \u001b[1m8s\u001b[0m 17ms/step - accuracy: 0.1149 - loss: 2.3009 - val_accuracy: 0.1135 - val_loss: 2.3010\n",
            "Epoch 6/20\n",
            "\u001b[1m469/469\u001b[0m \u001b[32m━━━━━━━━━━━━━━━━━━━━\u001b[0m\u001b[37m\u001b[0m \u001b[1m10s\u001b[0m 16ms/step - accuracy: 0.1138 - loss: 2.3010 - val_accuracy: 0.1135 - val_loss: 2.3012\n",
            "Epoch 7/20\n",
            "\u001b[1m469/469\u001b[0m \u001b[32m━━━━━━━━━━━━━━━━━━━━\u001b[0m\u001b[37m\u001b[0m \u001b[1m12s\u001b[0m 21ms/step - accuracy: 0.1106 - loss: 2.3013 - val_accuracy: 0.1135 - val_loss: 2.3010\n",
            "Epoch 8/20\n",
            "\u001b[1m469/469\u001b[0m \u001b[32m━━━━━━━━━━━━━━━━━━━━\u001b[0m\u001b[37m\u001b[0m \u001b[1m11s\u001b[0m 23ms/step - accuracy: 0.1139 - loss: 2.3012 - val_accuracy: 0.1135 - val_loss: 2.3013\n",
            "Epoch 9/20\n",
            "\u001b[1m469/469\u001b[0m \u001b[32m━━━━━━━━━━━━━━━━━━━━\u001b[0m\u001b[37m\u001b[0m \u001b[1m18s\u001b[0m 18ms/step - accuracy: 0.1104 - loss: 2.3015 - val_accuracy: 0.1135 - val_loss: 2.3011\n",
            "Epoch 10/20\n",
            "\u001b[1m469/469\u001b[0m \u001b[32m━━━━━━━━━━━━━━━━━━━━\u001b[0m\u001b[37m\u001b[0m \u001b[1m11s\u001b[0m 19ms/step - accuracy: 0.1115 - loss: 2.3015 - val_accuracy: 0.1135 - val_loss: 2.3011\n",
            "Epoch 11/20\n",
            "\u001b[1m469/469\u001b[0m \u001b[32m━━━━━━━━━━━━━━━━━━━━\u001b[0m\u001b[37m\u001b[0m \u001b[1m9s\u001b[0m 20ms/step - accuracy: 0.1138 - loss: 2.3013 - val_accuracy: 0.1135 - val_loss: 2.3011\n",
            "Epoch 12/20\n",
            "\u001b[1m469/469\u001b[0m \u001b[32m━━━━━━━━━━━━━━━━━━━━\u001b[0m\u001b[37m\u001b[0m \u001b[1m8s\u001b[0m 18ms/step - accuracy: 0.1133 - loss: 2.3015 - val_accuracy: 0.1135 - val_loss: 2.3011\n",
            "Epoch 13/20\n",
            "\u001b[1m469/469\u001b[0m \u001b[32m━━━━━━━━━━━━━━━━━━━━\u001b[0m\u001b[37m\u001b[0m \u001b[1m11s\u001b[0m 18ms/step - accuracy: 0.1127 - loss: 2.3013 - val_accuracy: 0.1135 - val_loss: 2.3011\n",
            "Epoch 14/20\n",
            "\u001b[1m469/469\u001b[0m \u001b[32m━━━━━━━━━━━━━━━━━━━━\u001b[0m\u001b[37m\u001b[0m \u001b[1m10s\u001b[0m 17ms/step - accuracy: 0.1138 - loss: 2.3009 - val_accuracy: 0.1135 - val_loss: 2.3010\n",
            "Epoch 15/20\n",
            "\u001b[1m469/469\u001b[0m \u001b[32m━━━━━━━━━━━━━━━━━━━━\u001b[0m\u001b[37m\u001b[0m \u001b[1m9s\u001b[0m 19ms/step - accuracy: 0.1123 - loss: 2.3013 - val_accuracy: 0.1135 - val_loss: 2.3011\n",
            "Epoch 16/20\n",
            "\u001b[1m469/469\u001b[0m \u001b[32m━━━━━━━━━━━━━━━━━━━━\u001b[0m\u001b[37m\u001b[0m \u001b[1m10s\u001b[0m 19ms/step - accuracy: 0.1099 - loss: 2.3017 - val_accuracy: 0.1135 - val_loss: 2.3010\n",
            "Epoch 17/20\n",
            "\u001b[1m469/469\u001b[0m \u001b[32m━━━━━━━━━━━━━━━━━━━━\u001b[0m\u001b[37m\u001b[0m \u001b[1m10s\u001b[0m 18ms/step - accuracy: 0.1125 - loss: 2.3010 - val_accuracy: 0.1135 - val_loss: 2.3010\n",
            "Epoch 18/20\n",
            "\u001b[1m469/469\u001b[0m \u001b[32m━━━━━━━━━━━━━━━━━━━━\u001b[0m\u001b[37m\u001b[0m \u001b[1m10s\u001b[0m 21ms/step - accuracy: 0.1111 - loss: 2.3015 - val_accuracy: 0.1135 - val_loss: 2.3011\n",
            "Epoch 19/20\n",
            "\u001b[1m469/469\u001b[0m \u001b[32m━━━━━━━━━━━━━━━━━━━━\u001b[0m\u001b[37m\u001b[0m \u001b[1m10s\u001b[0m 21ms/step - accuracy: 0.1135 - loss: 2.3012 - val_accuracy: 0.1135 - val_loss: 2.3011\n",
            "Epoch 20/20\n",
            "\u001b[1m469/469\u001b[0m \u001b[32m━━━━━━━━━━━━━━━━━━━━\u001b[0m\u001b[37m\u001b[0m \u001b[1m9s\u001b[0m 18ms/step - accuracy: 0.1119 - loss: 2.3015 - val_accuracy: 0.1135 - val_loss: 2.3011\n",
            "Epoch 1/20\n",
            "\u001b[1m469/469\u001b[0m \u001b[32m━━━━━━━━━━━━━━━━━━━━\u001b[0m\u001b[37m\u001b[0m \u001b[1m14s\u001b[0m 23ms/step - accuracy: 0.1240 - loss: 517.8550 - val_accuracy: 0.1135 - val_loss: 9.5022\n",
            "Epoch 2/20\n",
            "\u001b[1m469/469\u001b[0m \u001b[32m━━━━━━━━━━━━━━━━━━━━\u001b[0m\u001b[37m\u001b[0m \u001b[1m9s\u001b[0m 19ms/step - accuracy: 0.1137 - loss: 9.4425 - val_accuracy: 0.1135 - val_loss: 9.3364\n",
            "Epoch 3/20\n",
            "\u001b[1m469/469\u001b[0m \u001b[32m━━━━━━━━━━━━━━━━━━━━\u001b[0m\u001b[37m\u001b[0m \u001b[1m12s\u001b[0m 23ms/step - accuracy: 0.1120 - loss: 9.3275 - val_accuracy: 0.1135 - val_loss: 9.3828\n",
            "Epoch 4/20\n",
            "\u001b[1m469/469\u001b[0m \u001b[32m━━━━━━━━━━━━━━━━━━━━\u001b[0m\u001b[37m\u001b[0m \u001b[1m10s\u001b[0m 21ms/step - accuracy: 0.1107 - loss: 9.3751 - val_accuracy: 0.1135 - val_loss: 9.3582\n",
            "Epoch 5/20\n",
            "\u001b[1m469/469\u001b[0m \u001b[32m━━━━━━━━━━━━━━━━━━━━\u001b[0m\u001b[37m\u001b[0m \u001b[1m10s\u001b[0m 22ms/step - accuracy: 0.1152 - loss: 9.4337 - val_accuracy: 0.1135 - val_loss: 9.5459\n",
            "Epoch 6/20\n",
            "\u001b[1m469/469\u001b[0m \u001b[32m━━━━━━━━━━━━━━━━━━━━\u001b[0m\u001b[37m\u001b[0m \u001b[1m8s\u001b[0m 17ms/step - accuracy: 0.1119 - loss: 9.5743 - val_accuracy: 0.1135 - val_loss: 9.6417\n",
            "Epoch 7/20\n",
            "\u001b[1m469/469\u001b[0m \u001b[32m━━━━━━━━━━━━━━━━━━━━\u001b[0m\u001b[37m\u001b[0m \u001b[1m11s\u001b[0m 23ms/step - accuracy: 0.1111 - loss: 9.5850 - val_accuracy: 0.1135 - val_loss: 9.6300\n",
            "Epoch 8/20\n",
            "\u001b[1m469/469\u001b[0m \u001b[32m━━━━━━━━━━━━━━━━━━━━\u001b[0m\u001b[37m\u001b[0m \u001b[1m21s\u001b[0m 23ms/step - accuracy: 0.1105 - loss: 9.5902 - val_accuracy: 0.1135 - val_loss: 9.5795\n",
            "Epoch 9/20\n",
            "\u001b[1m469/469\u001b[0m \u001b[32m━━━━━━━━━━━━━━━━━━━━\u001b[0m\u001b[37m\u001b[0m \u001b[1m9s\u001b[0m 20ms/step - accuracy: 0.1133 - loss: 9.5938 - val_accuracy: 0.1135 - val_loss: 9.5415\n",
            "Epoch 10/20\n",
            "\u001b[1m469/469\u001b[0m \u001b[32m━━━━━━━━━━━━━━━━━━━━\u001b[0m\u001b[37m\u001b[0m \u001b[1m12s\u001b[0m 23ms/step - accuracy: 0.1117 - loss: 9.5936 - val_accuracy: 0.1135 - val_loss: 9.5723\n",
            "Epoch 11/20\n",
            "\u001b[1m469/469\u001b[0m \u001b[32m━━━━━━━━━━━━━━━━━━━━\u001b[0m\u001b[37m\u001b[0m \u001b[1m19s\u001b[0m 20ms/step - accuracy: 0.1123 - loss: 9.5939 - val_accuracy: 0.1135 - val_loss: 9.6049\n",
            "Epoch 12/20\n",
            "\u001b[1m469/469\u001b[0m \u001b[32m━━━━━━━━━━━━━━━━━━━━\u001b[0m\u001b[37m\u001b[0m \u001b[1m10s\u001b[0m 19ms/step - accuracy: 0.1144 - loss: 9.5943 - val_accuracy: 0.1135 - val_loss: 9.6146\n",
            "Epoch 13/20\n",
            "\u001b[1m469/469\u001b[0m \u001b[32m━━━━━━━━━━━━━━━━━━━━\u001b[0m\u001b[37m\u001b[0m \u001b[1m12s\u001b[0m 23ms/step - accuracy: 0.1117 - loss: 9.5950 - val_accuracy: 0.1135 - val_loss: 9.5788\n",
            "Epoch 14/20\n",
            "\u001b[1m469/469\u001b[0m \u001b[32m━━━━━━━━━━━━━━━━━━━━\u001b[0m\u001b[37m\u001b[0m \u001b[1m21s\u001b[0m 23ms/step - accuracy: 0.1109 - loss: 9.5944 - val_accuracy: 0.1135 - val_loss: 9.5936\n",
            "Epoch 15/20\n",
            "\u001b[1m469/469\u001b[0m \u001b[32m━━━━━━━━━━━━━━━━━━━━\u001b[0m\u001b[37m\u001b[0m \u001b[1m19s\u001b[0m 19ms/step - accuracy: 0.1120 - loss: 9.5942 - val_accuracy: 0.1135 - val_loss: 9.5729\n",
            "Epoch 16/20\n",
            "\u001b[1m469/469\u001b[0m \u001b[32m━━━━━━━━━━━━━━━━━━━━\u001b[0m\u001b[37m\u001b[0m \u001b[1m11s\u001b[0m 23ms/step - accuracy: 0.1118 - loss: 9.5942 - val_accuracy: 0.1135 - val_loss: 9.5686\n",
            "Epoch 17/20\n",
            "\u001b[1m469/469\u001b[0m \u001b[32m━━━━━━━━━━━━━━━━━━━━\u001b[0m\u001b[37m\u001b[0m \u001b[1m11s\u001b[0m 23ms/step - accuracy: 0.1123 - loss: 9.5940 - val_accuracy: 0.1135 - val_loss: 9.5955\n",
            "Epoch 18/20\n",
            "\u001b[1m469/469\u001b[0m \u001b[32m━━━━━━━━━━━━━━━━━━━━\u001b[0m\u001b[37m\u001b[0m \u001b[1m19s\u001b[0m 20ms/step - accuracy: 0.1142 - loss: 9.5947 - val_accuracy: 0.1135 - val_loss: 9.6430\n",
            "Epoch 19/20\n",
            "\u001b[1m469/469\u001b[0m \u001b[32m━━━━━━━━━━━━━━━━━━━━\u001b[0m\u001b[37m\u001b[0m \u001b[1m11s\u001b[0m 23ms/step - accuracy: 0.1135 - loss: 9.5951 - val_accuracy: 0.1135 - val_loss: 9.5968\n",
            "Epoch 20/20\n",
            "\u001b[1m469/469\u001b[0m \u001b[32m━━━━━━━━━━━━━━━━━━━━\u001b[0m\u001b[37m\u001b[0m \u001b[1m11s\u001b[0m 23ms/step - accuracy: 0.1141 - loss: 9.5934 - val_accuracy: 0.1135 - val_loss: 9.5435\n"
          ]
        }
      ]
    },
    {
      "cell_type": "markdown",
      "source": [
        "\n",
        "\n",
        "1. Build and Train the Model with Dropout"
      ],
      "metadata": {
        "id": "5UeUZAFY75Wa"
      }
    },
    {
      "cell_type": "code",
      "source": [
        "def build_dropout_model(dropout_rate=0.2):\n",
        "    model = keras.Sequential([\n",
        "        layers.Dense(512, activation='relu', input_shape=(28*28,)),\n",
        "        layers.Dropout(dropout_rate),  # Dropout layer\n",
        "        layers.Dense(256, activation='relu'),\n",
        "        layers.Dropout(dropout_rate),\n",
        "        layers.Dense(128, activation='relu'),\n",
        "        layers.Dropout(dropout_rate),\n",
        "        layers.Dense(64, activation='relu'),\n",
        "        layers.Dropout(dropout_rate),\n",
        "        layers.Dense(32, activation='relu'),\n",
        "        layers.Dropout(dropout_rate),\n",
        "        layers.Dense(10, activation='softmax')\n",
        "    ])\n",
        "\n",
        "    model.compile(optimizer='adam',\n",
        "                  loss='categorical_crossentropy',\n",
        "                  metrics=['accuracy'])\n",
        "    return model\n",
        "\n",
        "# Train the model with Dropout (0.2 rate)\n",
        "dropout_model = build_dropout_model(dropout_rate=0.2)\n",
        "history_dropout = dropout_model.fit(x_train, y_train, epochs=20, validation_data=(x_test, y_test), batch_size=128)\n"
      ],
      "metadata": {
        "colab": {
          "base_uri": "https://localhost:8080/"
        },
        "id": "rJMyyPAO72P-",
        "outputId": "e50902d7-0493-4140-9fde-ce17a9d5eef1"
      },
      "execution_count": null,
      "outputs": [
        {
          "output_type": "stream",
          "name": "stdout",
          "text": [
            "Epoch 1/20\n",
            "\u001b[1m469/469\u001b[0m \u001b[32m━━━━━━━━━━━━━━━━━━━━\u001b[0m\u001b[37m\u001b[0m \u001b[1m14s\u001b[0m 23ms/step - accuracy: 0.7021 - loss: 0.8994 - val_accuracy: 0.9554 - val_loss: 0.1661\n",
            "Epoch 2/20\n",
            "\u001b[1m469/469\u001b[0m \u001b[32m━━━━━━━━━━━━━━━━━━━━\u001b[0m\u001b[37m\u001b[0m \u001b[1m11s\u001b[0m 23ms/step - accuracy: 0.9521 - loss: 0.1904 - val_accuracy: 0.9688 - val_loss: 0.1178\n",
            "Epoch 3/20\n",
            "\u001b[1m469/469\u001b[0m \u001b[32m━━━━━━━━━━━━━━━━━━━━\u001b[0m\u001b[37m\u001b[0m \u001b[1m20s\u001b[0m 22ms/step - accuracy: 0.9651 - loss: 0.1347 - val_accuracy: 0.9758 - val_loss: 0.0945\n",
            "Epoch 4/20\n",
            "\u001b[1m469/469\u001b[0m \u001b[32m━━━━━━━━━━━━━━━━━━━━\u001b[0m\u001b[37m\u001b[0m \u001b[1m20s\u001b[0m 22ms/step - accuracy: 0.9738 - loss: 0.1070 - val_accuracy: 0.9768 - val_loss: 0.0907\n",
            "Epoch 5/20\n",
            "\u001b[1m469/469\u001b[0m \u001b[32m━━━━━━━━━━━━━━━━━━━━\u001b[0m\u001b[37m\u001b[0m \u001b[1m9s\u001b[0m 19ms/step - accuracy: 0.9761 - loss: 0.0923 - val_accuracy: 0.9789 - val_loss: 0.0873\n",
            "Epoch 6/20\n",
            "\u001b[1m469/469\u001b[0m \u001b[32m━━━━━━━━━━━━━━━━━━━━\u001b[0m\u001b[37m\u001b[0m \u001b[1m10s\u001b[0m 22ms/step - accuracy: 0.9791 - loss: 0.0812 - val_accuracy: 0.9783 - val_loss: 0.0906\n",
            "Epoch 7/20\n",
            "\u001b[1m469/469\u001b[0m \u001b[32m━━━━━━━━━━━━━━━━━━━━\u001b[0m\u001b[37m\u001b[0m \u001b[1m11s\u001b[0m 22ms/step - accuracy: 0.9824 - loss: 0.0708 - val_accuracy: 0.9809 - val_loss: 0.0773\n",
            "Epoch 8/20\n",
            "\u001b[1m469/469\u001b[0m \u001b[32m━━━━━━━━━━━━━━━━━━━━\u001b[0m\u001b[37m\u001b[0m \u001b[1m19s\u001b[0m 20ms/step - accuracy: 0.9842 - loss: 0.0609 - val_accuracy: 0.9780 - val_loss: 0.0873\n",
            "Epoch 9/20\n",
            "\u001b[1m469/469\u001b[0m \u001b[32m━━━━━━━━━━━━━━━━━━━━\u001b[0m\u001b[37m\u001b[0m \u001b[1m10s\u001b[0m 22ms/step - accuracy: 0.9853 - loss: 0.0566 - val_accuracy: 0.9815 - val_loss: 0.0757\n",
            "Epoch 10/20\n",
            "\u001b[1m469/469\u001b[0m \u001b[32m━━━━━━━━━━━━━━━━━━━━\u001b[0m\u001b[37m\u001b[0m \u001b[1m21s\u001b[0m 22ms/step - accuracy: 0.9864 - loss: 0.0490 - val_accuracy: 0.9821 - val_loss: 0.0710\n",
            "Epoch 11/20\n",
            "\u001b[1m469/469\u001b[0m \u001b[32m━━━━━━━━━━━━━━━━━━━━\u001b[0m\u001b[37m\u001b[0m \u001b[1m9s\u001b[0m 19ms/step - accuracy: 0.9895 - loss: 0.0442 - val_accuracy: 0.9815 - val_loss: 0.0775\n",
            "Epoch 12/20\n",
            "\u001b[1m469/469\u001b[0m \u001b[32m━━━━━━━━━━━━━━━━━━━━\u001b[0m\u001b[37m\u001b[0m \u001b[1m10s\u001b[0m 22ms/step - accuracy: 0.9885 - loss: 0.0441 - val_accuracy: 0.9808 - val_loss: 0.0899\n",
            "Epoch 13/20\n",
            "\u001b[1m469/469\u001b[0m \u001b[32m━━━━━━━━━━━━━━━━━━━━\u001b[0m\u001b[37m\u001b[0m \u001b[1m10s\u001b[0m 22ms/step - accuracy: 0.9896 - loss: 0.0395 - val_accuracy: 0.9821 - val_loss: 0.0783\n",
            "Epoch 14/20\n",
            "\u001b[1m469/469\u001b[0m \u001b[32m━━━━━━━━━━━━━━━━━━━━\u001b[0m\u001b[37m\u001b[0m \u001b[1m20s\u001b[0m 21ms/step - accuracy: 0.9905 - loss: 0.0362 - val_accuracy: 0.9807 - val_loss: 0.0791\n",
            "Epoch 15/20\n",
            "\u001b[1m469/469\u001b[0m \u001b[32m━━━━━━━━━━━━━━━━━━━━\u001b[0m\u001b[37m\u001b[0m \u001b[1m9s\u001b[0m 19ms/step - accuracy: 0.9913 - loss: 0.0346 - val_accuracy: 0.9821 - val_loss: 0.0881\n",
            "Epoch 16/20\n",
            "\u001b[1m469/469\u001b[0m \u001b[32m━━━━━━━━━━━━━━━━━━━━\u001b[0m\u001b[37m\u001b[0m \u001b[1m11s\u001b[0m 23ms/step - accuracy: 0.9912 - loss: 0.0317 - val_accuracy: 0.9823 - val_loss: 0.0782\n",
            "Epoch 17/20\n",
            "\u001b[1m469/469\u001b[0m \u001b[32m━━━━━━━━━━━━━━━━━━━━\u001b[0m\u001b[37m\u001b[0m \u001b[1m10s\u001b[0m 22ms/step - accuracy: 0.9909 - loss: 0.0344 - val_accuracy: 0.9811 - val_loss: 0.0913\n",
            "Epoch 18/20\n",
            "\u001b[1m469/469\u001b[0m \u001b[32m━━━━━━━━━━━━━━━━━━━━\u001b[0m\u001b[37m\u001b[0m \u001b[1m9s\u001b[0m 18ms/step - accuracy: 0.9913 - loss: 0.0318 - val_accuracy: 0.9834 - val_loss: 0.0854\n",
            "Epoch 19/20\n",
            "\u001b[1m469/469\u001b[0m \u001b[32m━━━━━━━━━━━━━━━━━━━━\u001b[0m\u001b[37m\u001b[0m \u001b[1m11s\u001b[0m 19ms/step - accuracy: 0.9920 - loss: 0.0270 - val_accuracy: 0.9820 - val_loss: 0.1012\n",
            "Epoch 20/20\n",
            "\u001b[1m469/469\u001b[0m \u001b[32m━━━━━━━━━━━━━━━━━━━━\u001b[0m\u001b[37m\u001b[0m \u001b[1m11s\u001b[0m 22ms/step - accuracy: 0.9923 - loss: 0.0293 - val_accuracy: 0.9841 - val_loss: 0.0862\n"
          ]
        }
      ]
    },
    {
      "cell_type": "markdown",
      "source": [
        "2. Experiment with Different Dropout Rates"
      ],
      "metadata": {
        "id": "7scm6Qeq7-Vh"
      }
    },
    {
      "cell_type": "code",
      "source": [
        "# Experiment with 0.5 dropout rate\n",
        "dropout_model_05 = build_dropout_model(dropout_rate=0.5)\n",
        "history_dropout_05 = dropout_model_05.fit(x_train, y_train, epochs=20, validation_data=(x_test, y_test), batch_size=128)\n"
      ],
      "metadata": {
        "colab": {
          "base_uri": "https://localhost:8080/"
        },
        "id": "D2FdE1MC72R-",
        "outputId": "46283d35-b73c-45a8-e844-279a3934564a"
      },
      "execution_count": null,
      "outputs": [
        {
          "output_type": "stream",
          "name": "stdout",
          "text": [
            "Epoch 1/20\n",
            "\u001b[1m469/469\u001b[0m \u001b[32m━━━━━━━━━━━━━━━━━━━━\u001b[0m\u001b[37m\u001b[0m \u001b[1m14s\u001b[0m 23ms/step - accuracy: 0.2735 - loss: 1.9410 - val_accuracy: 0.8570 - val_loss: 0.5506\n",
            "Epoch 2/20\n",
            "\u001b[1m469/469\u001b[0m \u001b[32m━━━━━━━━━━━━━━━━━━━━\u001b[0m\u001b[37m\u001b[0m \u001b[1m20s\u001b[0m 21ms/step - accuracy: 0.7540 - loss: 0.7670 - val_accuracy: 0.9200 - val_loss: 0.3264\n",
            "Epoch 3/20\n",
            "\u001b[1m469/469\u001b[0m \u001b[32m━━━━━━━━━━━━━━━━━━━━\u001b[0m\u001b[37m\u001b[0m \u001b[1m9s\u001b[0m 18ms/step - accuracy: 0.8545 - loss: 0.5307 - val_accuracy: 0.9466 - val_loss: 0.2148\n",
            "Epoch 4/20\n",
            "\u001b[1m469/469\u001b[0m \u001b[32m━━━━━━━━━━━━━━━━━━━━\u001b[0m\u001b[37m\u001b[0m \u001b[1m10s\u001b[0m 22ms/step - accuracy: 0.8962 - loss: 0.4112 - val_accuracy: 0.9596 - val_loss: 0.1759\n",
            "Epoch 5/20\n",
            "\u001b[1m469/469\u001b[0m \u001b[32m━━━━━━━━━━━━━━━━━━━━\u001b[0m\u001b[37m\u001b[0m \u001b[1m10s\u001b[0m 22ms/step - accuracy: 0.9098 - loss: 0.3560 - val_accuracy: 0.9660 - val_loss: 0.1494\n",
            "Epoch 6/20\n",
            "\u001b[1m469/469\u001b[0m \u001b[32m━━━━━━━━━━━━━━━━━━━━\u001b[0m\u001b[37m\u001b[0m \u001b[1m11s\u001b[0m 23ms/step - accuracy: 0.9225 - loss: 0.3204 - val_accuracy: 0.9670 - val_loss: 0.1564\n",
            "Epoch 7/20\n",
            "\u001b[1m469/469\u001b[0m \u001b[32m━━━━━━━━━━━━━━━━━━━━\u001b[0m\u001b[37m\u001b[0m \u001b[1m9s\u001b[0m 20ms/step - accuracy: 0.9309 - loss: 0.2876 - val_accuracy: 0.9699 - val_loss: 0.1509\n",
            "Epoch 8/20\n",
            "\u001b[1m469/469\u001b[0m \u001b[32m━━━━━━━━━━━━━━━━━━━━\u001b[0m\u001b[37m\u001b[0m \u001b[1m11s\u001b[0m 22ms/step - accuracy: 0.9338 - loss: 0.2711 - val_accuracy: 0.9727 - val_loss: 0.1353\n",
            "Epoch 9/20\n",
            "\u001b[1m469/469\u001b[0m \u001b[32m━━━━━━━━━━━━━━━━━━━━\u001b[0m\u001b[37m\u001b[0m \u001b[1m21s\u001b[0m 23ms/step - accuracy: 0.9407 - loss: 0.2443 - val_accuracy: 0.9735 - val_loss: 0.1293\n",
            "Epoch 10/20\n",
            "\u001b[1m469/469\u001b[0m \u001b[32m━━━━━━━━━━━━━━━━━━━━\u001b[0m\u001b[37m\u001b[0m \u001b[1m10s\u001b[0m 22ms/step - accuracy: 0.9440 - loss: 0.2363 - val_accuracy: 0.9742 - val_loss: 0.1296\n",
            "Epoch 11/20\n",
            "\u001b[1m469/469\u001b[0m \u001b[32m━━━━━━━━━━━━━━━━━━━━\u001b[0m\u001b[37m\u001b[0m \u001b[1m10s\u001b[0m 21ms/step - accuracy: 0.9456 - loss: 0.2316 - val_accuracy: 0.9738 - val_loss: 0.1242\n",
            "Epoch 12/20\n",
            "\u001b[1m469/469\u001b[0m \u001b[32m━━━━━━━━━━━━━━━━━━━━\u001b[0m\u001b[37m\u001b[0m \u001b[1m11s\u001b[0m 22ms/step - accuracy: 0.9461 - loss: 0.2169 - val_accuracy: 0.9738 - val_loss: 0.1245\n",
            "Epoch 13/20\n",
            "\u001b[1m469/469\u001b[0m \u001b[32m━━━━━━━━━━━━━━━━━━━━\u001b[0m\u001b[37m\u001b[0m \u001b[1m10s\u001b[0m 22ms/step - accuracy: 0.9500 - loss: 0.2113 - val_accuracy: 0.9733 - val_loss: 0.1338\n",
            "Epoch 14/20\n",
            "\u001b[1m469/469\u001b[0m \u001b[32m━━━━━━━━━━━━━━━━━━━━\u001b[0m\u001b[37m\u001b[0m \u001b[1m20s\u001b[0m 20ms/step - accuracy: 0.9494 - loss: 0.2035 - val_accuracy: 0.9763 - val_loss: 0.1235\n",
            "Epoch 15/20\n",
            "\u001b[1m469/469\u001b[0m \u001b[32m━━━━━━━━━━━━━━━━━━━━\u001b[0m\u001b[37m\u001b[0m \u001b[1m10s\u001b[0m 21ms/step - accuracy: 0.9507 - loss: 0.1988 - val_accuracy: 0.9782 - val_loss: 0.1239\n",
            "Epoch 16/20\n",
            "\u001b[1m469/469\u001b[0m \u001b[32m━━━━━━━━━━━━━━━━━━━━\u001b[0m\u001b[37m\u001b[0m \u001b[1m11s\u001b[0m 22ms/step - accuracy: 0.9524 - loss: 0.2010 - val_accuracy: 0.9759 - val_loss: 0.1290\n",
            "Epoch 17/20\n",
            "\u001b[1m469/469\u001b[0m \u001b[32m━━━━━━━━━━━━━━━━━━━━\u001b[0m\u001b[37m\u001b[0m \u001b[1m19s\u001b[0m 20ms/step - accuracy: 0.9560 - loss: 0.1876 - val_accuracy: 0.9801 - val_loss: 0.1097\n",
            "Epoch 18/20\n",
            "\u001b[1m469/469\u001b[0m \u001b[32m━━━━━━━━━━━━━━━━━━━━\u001b[0m\u001b[37m\u001b[0m \u001b[1m10s\u001b[0m 22ms/step - accuracy: 0.9577 - loss: 0.1765 - val_accuracy: 0.9794 - val_loss: 0.1105\n",
            "Epoch 19/20\n",
            "\u001b[1m469/469\u001b[0m \u001b[32m━━━━━━━━━━━━━━━━━━━━\u001b[0m\u001b[37m\u001b[0m \u001b[1m20s\u001b[0m 21ms/step - accuracy: 0.9549 - loss: 0.1885 - val_accuracy: 0.9777 - val_loss: 0.1208\n",
            "Epoch 20/20\n",
            "\u001b[1m469/469\u001b[0m \u001b[32m━━━━━━━━━━━━━━━━━━━━\u001b[0m\u001b[37m\u001b[0m \u001b[1m9s\u001b[0m 19ms/step - accuracy: 0.9595 - loss: 0.1681 - val_accuracy: 0.9785 - val_loss: 0.1206\n"
          ]
        }
      ]
    },
    {
      "cell_type": "markdown",
      "source": [
        "3. Combining Dropout with L1/L2 Regularization"
      ],
      "metadata": {
        "id": "vOSn5Wnq8Cjl"
      }
    },
    {
      "cell_type": "code",
      "source": [
        "def build_dropout_regularized_model(l1=0.01, l2=0.01, dropout_rate=0.2):\n",
        "    model = keras.Sequential([\n",
        "        layers.Dense(512, activation='relu', input_shape=(28*28,),\n",
        "                     kernel_regularizer=regularizers.l1_l2(l1=l1, l2=l2)),\n",
        "        layers.Dropout(dropout_rate),\n",
        "        layers.Dense(256, activation='relu', kernel_regularizer=regularizers.l1_l2(l1=l1, l2=l2)),\n",
        "        layers.Dropout(dropout_rate),\n",
        "        layers.Dense(128, activation='relu', kernel_regularizer=regularizers.l1_l2(l1=l1, l2=l2)),\n",
        "        layers.Dropout(dropout_rate),\n",
        "        layers.Dense(64, activation='relu', kernel_regularizer=regularizers.l1_l2(l1=l1, l2=l2)),\n",
        "        layers.Dropout(dropout_rate),\n",
        "        layers.Dense(32, activation='relu', kernel_regularizer=regularizers.l1_l2(l1=l1, l2=l2)),\n",
        "        layers.Dropout(dropout_rate),\n",
        "        layers.Dense(10, activation='softmax')\n",
        "    ])\n",
        "\n",
        "    model.compile(optimizer='adam',\n",
        "                  loss='categorical_crossentropy',\n",
        "                  metrics=['accuracy'])\n",
        "    return model\n",
        "\n",
        "# Train the model with Dropout + L1/L2 Regularization\n",
        "dropout_l1_l2_model = build_dropout_regularized_model(l1=0.01, l2=0.01, dropout_rate=0.2)\n",
        "history_dropout_l1_l2 = dropout_l1_l2_model.fit(x_train, y_train, epochs=20, validation_data=(x_test, y_test), batch_size=128)\n",
        "\n",
        "# Print Observations\n",
        "print(f\"Total Epochs Run: {len(history_dropout_l1_l2.history['loss'])}\")\n",
        "print(f\"Final Validation Loss: {min(history_dropout_l1_l2.history['val_loss']):.4f}\")\n",
        "print(f\"Final Validation Accuracy: {max(history_dropout_l1_l2.history['val_accuracy']):.4f}\")\n"
      ],
      "metadata": {
        "colab": {
          "base_uri": "https://localhost:8080/"
        },
        "id": "6cBTPUIw72UG",
        "outputId": "292b3528-b279-4750-bc17-87d2ab06b280"
      },
      "execution_count": null,
      "outputs": [
        {
          "output_type": "stream",
          "name": "stdout",
          "text": [
            "Epoch 1/20\n",
            "\u001b[1m469/469\u001b[0m \u001b[32m━━━━━━━━━━━━━━━━━━━━\u001b[0m\u001b[37m\u001b[0m \u001b[1m15s\u001b[0m 26ms/step - accuracy: 0.1112 - loss: 54.0195 - val_accuracy: 0.1135 - val_loss: 3.0167\n",
            "Epoch 2/20\n",
            "\u001b[1m469/469\u001b[0m \u001b[32m━━━━━━━━━━━━━━━━━━━━\u001b[0m\u001b[37m\u001b[0m \u001b[1m12s\u001b[0m 25ms/step - accuracy: 0.1136 - loss: 3.0114 - val_accuracy: 0.1135 - val_loss: 2.9992\n",
            "Epoch 3/20\n",
            "\u001b[1m469/469\u001b[0m \u001b[32m━━━━━━━━━━━━━━━━━━━━\u001b[0m\u001b[37m\u001b[0m \u001b[1m20s\u001b[0m 24ms/step - accuracy: 0.1123 - loss: 3.0005 - val_accuracy: 0.1135 - val_loss: 3.0047\n",
            "Epoch 4/20\n",
            "\u001b[1m469/469\u001b[0m \u001b[32m━━━━━━━━━━━━━━━━━━━━\u001b[0m\u001b[37m\u001b[0m \u001b[1m21s\u001b[0m 25ms/step - accuracy: 0.1126 - loss: 3.0046 - val_accuracy: 0.1135 - val_loss: 3.0044\n",
            "Epoch 5/20\n",
            "\u001b[1m469/469\u001b[0m \u001b[32m━━━━━━━━━━━━━━━━━━━━\u001b[0m\u001b[37m\u001b[0m \u001b[1m20s\u001b[0m 23ms/step - accuracy: 0.1123 - loss: 3.0111 - val_accuracy: 0.1135 - val_loss: 3.0218\n",
            "Epoch 6/20\n",
            "\u001b[1m469/469\u001b[0m \u001b[32m━━━━━━━━━━━━━━━━━━━━\u001b[0m\u001b[37m\u001b[0m \u001b[1m21s\u001b[0m 25ms/step - accuracy: 0.1122 - loss: 3.0250 - val_accuracy: 0.1135 - val_loss: 3.0278\n",
            "Epoch 7/20\n",
            "\u001b[1m469/469\u001b[0m \u001b[32m━━━━━━━━━━━━━━━━━━━━\u001b[0m\u001b[37m\u001b[0m \u001b[1m20s\u001b[0m 25ms/step - accuracy: 0.1128 - loss: 3.0260 - val_accuracy: 0.1135 - val_loss: 3.0277\n",
            "Epoch 8/20\n",
            "\u001b[1m469/469\u001b[0m \u001b[32m━━━━━━━━━━━━━━━━━━━━\u001b[0m\u001b[37m\u001b[0m \u001b[1m11s\u001b[0m 23ms/step - accuracy: 0.1129 - loss: 3.0266 - val_accuracy: 0.1135 - val_loss: 3.0261\n",
            "Epoch 9/20\n",
            "\u001b[1m469/469\u001b[0m \u001b[32m━━━━━━━━━━━━━━━━━━━━\u001b[0m\u001b[37m\u001b[0m \u001b[1m11s\u001b[0m 23ms/step - accuracy: 0.1114 - loss: 3.0271 - val_accuracy: 0.1135 - val_loss: 3.0245\n",
            "Epoch 10/20\n",
            "\u001b[1m469/469\u001b[0m \u001b[32m━━━━━━━━━━━━━━━━━━━━\u001b[0m\u001b[37m\u001b[0m \u001b[1m21s\u001b[0m 25ms/step - accuracy: 0.1114 - loss: 3.0271 - val_accuracy: 0.1135 - val_loss: 3.0254\n",
            "Epoch 11/20\n",
            "\u001b[1m469/469\u001b[0m \u001b[32m━━━━━━━━━━━━━━━━━━━━\u001b[0m\u001b[37m\u001b[0m \u001b[1m20s\u001b[0m 25ms/step - accuracy: 0.1127 - loss: 3.0271 - val_accuracy: 0.1135 - val_loss: 3.0270\n",
            "Epoch 12/20\n",
            "\u001b[1m469/469\u001b[0m \u001b[32m━━━━━━━━━━━━━━━━━━━━\u001b[0m\u001b[37m\u001b[0m \u001b[1m11s\u001b[0m 23ms/step - accuracy: 0.1116 - loss: 3.0271 - val_accuracy: 0.1135 - val_loss: 3.0282\n",
            "Epoch 13/20\n",
            "\u001b[1m469/469\u001b[0m \u001b[32m━━━━━━━━━━━━━━━━━━━━\u001b[0m\u001b[37m\u001b[0m \u001b[1m22s\u001b[0m 25ms/step - accuracy: 0.1110 - loss: 3.0271 - val_accuracy: 0.1135 - val_loss: 3.0266\n",
            "Epoch 14/20\n",
            "\u001b[1m469/469\u001b[0m \u001b[32m━━━━━━━━━━━━━━━━━━━━\u001b[0m\u001b[37m\u001b[0m \u001b[1m12s\u001b[0m 26ms/step - accuracy: 0.1144 - loss: 3.0265 - val_accuracy: 0.1135 - val_loss: 3.0276\n",
            "Epoch 15/20\n",
            "\u001b[1m469/469\u001b[0m \u001b[32m━━━━━━━━━━━━━━━━━━━━\u001b[0m\u001b[37m\u001b[0m \u001b[1m12s\u001b[0m 25ms/step - accuracy: 0.1117 - loss: 3.0270 - val_accuracy: 0.1135 - val_loss: 3.0266\n",
            "Epoch 16/20\n",
            "\u001b[1m469/469\u001b[0m \u001b[32m━━━━━━━━━━━━━━━━━━━━\u001b[0m\u001b[37m\u001b[0m \u001b[1m20s\u001b[0m 25ms/step - accuracy: 0.1112 - loss: 3.0270 - val_accuracy: 0.1135 - val_loss: 3.0245\n",
            "Epoch 17/20\n",
            "\u001b[1m469/469\u001b[0m \u001b[32m━━━━━━━━━━━━━━━━━━━━\u001b[0m\u001b[37m\u001b[0m \u001b[1m12s\u001b[0m 25ms/step - accuracy: 0.1114 - loss: 3.0270 - val_accuracy: 0.1135 - val_loss: 3.0258\n",
            "Epoch 18/20\n",
            "\u001b[1m469/469\u001b[0m \u001b[32m━━━━━━━━━━━━━━━━━━━━\u001b[0m\u001b[37m\u001b[0m \u001b[1m12s\u001b[0m 25ms/step - accuracy: 0.1120 - loss: 3.0270 - val_accuracy: 0.1135 - val_loss: 3.0294\n",
            "Epoch 19/20\n",
            "\u001b[1m469/469\u001b[0m \u001b[32m━━━━━━━━━━━━━━━━━━━━\u001b[0m\u001b[37m\u001b[0m \u001b[1m12s\u001b[0m 26ms/step - accuracy: 0.1105 - loss: 3.0271 - val_accuracy: 0.1135 - val_loss: 3.0276\n",
            "Epoch 20/20\n",
            "\u001b[1m469/469\u001b[0m \u001b[32m━━━━━━━━━━━━━━━━━━━━\u001b[0m\u001b[37m\u001b[0m \u001b[1m20s\u001b[0m 24ms/step - accuracy: 0.1106 - loss: 3.0274 - val_accuracy: 0.1135 - val_loss: 3.0237\n",
            "Total Epochs Run: 20\n",
            "Final Validation Loss: 2.9992\n",
            "Final Validation Accuracy: 0.1135\n"
          ]
        }
      ]
    },
    {
      "cell_type": "markdown",
      "source": [
        "Model with Early Stopping (Patience = 2)"
      ],
      "metadata": {
        "id": "Hv2wqhrEF91W"
      }
    },
    {
      "cell_type": "code",
      "source": [
        "from tensorflow.keras.callbacks import EarlyStopping\n",
        "\n",
        "# Define Early Stopping with patience=2\n",
        "early_stopping_2 = EarlyStopping(monitor='val_loss', patience=2, min_delta=0.001, restore_best_weights=True)\n",
        "\n",
        "# Train model with early stopping (patience=2)\n",
        "early_stopping_model_2 = build_baseline_model()\n",
        "history_es_2 = early_stopping_model_2.fit(\n",
        "    x_train, y_train, epochs=20, validation_data=(x_test, y_test), batch_size=128, callbacks=[early_stopping_2]\n",
        ")\n",
        "\n",
        "# Print results\n",
        "print(\"\\nWith Early Stopping (Patience = 2):\")\n",
        "print(f\"Total Epochs Run: {len(history_es_2.history['loss'])}\")\n",
        "print(f\"Final Validation Loss: {history_es_2.history['val_loss'][-1]:.4f}\")\n",
        "print(f\"Final Validation Accuracy: {history_es_2.history['val_accuracy'][-1]:.4f}\")\n",
        "\n"
      ],
      "metadata": {
        "colab": {
          "base_uri": "https://localhost:8080/"
        },
        "id": "SycHGHw372Z1",
        "outputId": "c05d7cea-5092-4372-85d0-01c1ab38ee17"
      },
      "execution_count": null,
      "outputs": [
        {
          "output_type": "stream",
          "name": "stdout",
          "text": [
            "Epoch 1/20\n",
            "\u001b[1m469/469\u001b[0m \u001b[32m━━━━━━━━━━━━━━━━━━━━\u001b[0m\u001b[37m\u001b[0m \u001b[1m12s\u001b[0m 20ms/step - accuracy: 0.8414 - loss: 0.5224 - val_accuracy: 0.9637 - val_loss: 0.1184\n",
            "Epoch 2/20\n",
            "\u001b[1m469/469\u001b[0m \u001b[32m━━━━━━━━━━━━━━━━━━━━\u001b[0m\u001b[37m\u001b[0m \u001b[1m9s\u001b[0m 20ms/step - accuracy: 0.9705 - loss: 0.0975 - val_accuracy: 0.9721 - val_loss: 0.0865\n",
            "Epoch 3/20\n",
            "\u001b[1m469/469\u001b[0m \u001b[32m━━━━━━━━━━━━━━━━━━━━\u001b[0m\u001b[37m\u001b[0m \u001b[1m8s\u001b[0m 17ms/step - accuracy: 0.9810 - loss: 0.0619 - val_accuracy: 0.9737 - val_loss: 0.0820\n",
            "Epoch 4/20\n",
            "\u001b[1m469/469\u001b[0m \u001b[32m━━━━━━━━━━━━━━━━━━━━\u001b[0m\u001b[37m\u001b[0m \u001b[1m10s\u001b[0m 20ms/step - accuracy: 0.9867 - loss: 0.0439 - val_accuracy: 0.9769 - val_loss: 0.0879\n",
            "Epoch 5/20\n",
            "\u001b[1m469/469\u001b[0m \u001b[32m━━━━━━━━━━━━━━━━━━━━\u001b[0m\u001b[37m\u001b[0m \u001b[1m10s\u001b[0m 21ms/step - accuracy: 0.9884 - loss: 0.0343 - val_accuracy: 0.9785 - val_loss: 0.0761\n",
            "Epoch 6/20\n",
            "\u001b[1m469/469\u001b[0m \u001b[32m━━━━━━━━━━━━━━━━━━━━\u001b[0m\u001b[37m\u001b[0m \u001b[1m8s\u001b[0m 17ms/step - accuracy: 0.9910 - loss: 0.0289 - val_accuracy: 0.9797 - val_loss: 0.0766\n",
            "Epoch 7/20\n",
            "\u001b[1m469/469\u001b[0m \u001b[32m━━━━━━━━━━━━━━━━━━━━\u001b[0m\u001b[37m\u001b[0m \u001b[1m9s\u001b[0m 19ms/step - accuracy: 0.9929 - loss: 0.0222 - val_accuracy: 0.9787 - val_loss: 0.0805\n",
            "\n",
            "With Early Stopping (Patience = 2):\n",
            "Total Epochs Run: 7\n",
            "Final Validation Loss: 0.0805\n",
            "Final Validation Accuracy: 0.9787\n"
          ]
        }
      ]
    },
    {
      "cell_type": "markdown",
      "source": [
        "Train Model with Early Stopping (Patience = 5)"
      ],
      "metadata": {
        "id": "1zwKdG71GCHK"
      }
    },
    {
      "cell_type": "code",
      "source": [
        "# Define Early Stopping with patience=5\n",
        "early_stopping_5 = EarlyStopping(monitor='val_loss', patience=5, min_delta=0.001, restore_best_weights=True)\n",
        "\n",
        "# Train model with early stopping (patience=5)\n",
        "early_stopping_model_5 = build_baseline_model()\n",
        "history_es_5 = early_stopping_model_5.fit(\n",
        "    x_train, y_train, epochs=20, validation_data=(x_test, y_test), batch_size=128, callbacks=[early_stopping_5]\n",
        ")\n",
        "\n",
        "# Print results\n",
        "print(\"\\nWith Early Stopping (Patience = 5):\")\n",
        "print(f\"Total Epochs Run: {len(history_es_5.history['loss'])}\")\n",
        "print(f\"Final Validation Loss: {history_es_5.history['val_loss'][-1]:.4f}\")\n",
        "print(f\"Final Validation Accuracy: {history_es_5.history['val_accuracy'][-1]:.4f}\")\n"
      ],
      "metadata": {
        "colab": {
          "base_uri": "https://localhost:8080/"
        },
        "id": "rjwDJJs0F6hV",
        "outputId": "660d2f9a-9d24-4ce7-a4b1-01cf8894356f"
      },
      "execution_count": null,
      "outputs": [
        {
          "output_type": "stream",
          "name": "stdout",
          "text": [
            "Epoch 1/20\n",
            "\u001b[1m469/469\u001b[0m \u001b[32m━━━━━━━━━━━━━━━━━━━━\u001b[0m\u001b[37m\u001b[0m \u001b[1m11s\u001b[0m 17ms/step - accuracy: 0.8273 - loss: 0.5504 - val_accuracy: 0.9566 - val_loss: 0.1452\n",
            "Epoch 2/20\n",
            "\u001b[1m469/469\u001b[0m \u001b[32m━━━━━━━━━━━━━━━━━━━━\u001b[0m\u001b[37m\u001b[0m \u001b[1m10s\u001b[0m 17ms/step - accuracy: 0.9698 - loss: 0.0991 - val_accuracy: 0.9733 - val_loss: 0.0827\n",
            "Epoch 3/20\n",
            "\u001b[1m469/469\u001b[0m \u001b[32m━━━━━━━━━━━━━━━━━━━━\u001b[0m\u001b[37m\u001b[0m \u001b[1m9s\u001b[0m 20ms/step - accuracy: 0.9811 - loss: 0.0595 - val_accuracy: 0.9790 - val_loss: 0.0690\n",
            "Epoch 4/20\n",
            "\u001b[1m469/469\u001b[0m \u001b[32m━━━━━━━━━━━━━━━━━━━━\u001b[0m\u001b[37m\u001b[0m \u001b[1m9s\u001b[0m 20ms/step - accuracy: 0.9861 - loss: 0.0435 - val_accuracy: 0.9665 - val_loss: 0.1186\n",
            "Epoch 5/20\n",
            "\u001b[1m469/469\u001b[0m \u001b[32m━━━━━━━━━━━━━━━━━━━━\u001b[0m\u001b[37m\u001b[0m \u001b[1m10s\u001b[0m 18ms/step - accuracy: 0.9889 - loss: 0.0330 - val_accuracy: 0.9781 - val_loss: 0.0773\n",
            "Epoch 6/20\n",
            "\u001b[1m469/469\u001b[0m \u001b[32m━━━━━━━━━━━━━━━━━━━━\u001b[0m\u001b[37m\u001b[0m \u001b[1m10s\u001b[0m 18ms/step - accuracy: 0.9903 - loss: 0.0304 - val_accuracy: 0.9805 - val_loss: 0.0701\n",
            "Epoch 7/20\n",
            "\u001b[1m469/469\u001b[0m \u001b[32m━━━━━━━━━━━━━━━━━━━━\u001b[0m\u001b[37m\u001b[0m \u001b[1m11s\u001b[0m 20ms/step - accuracy: 0.9912 - loss: 0.0277 - val_accuracy: 0.9804 - val_loss: 0.0708\n",
            "Epoch 8/20\n",
            "\u001b[1m469/469\u001b[0m \u001b[32m━━━━━━━━━━━━━━━━━━━━\u001b[0m\u001b[37m\u001b[0m \u001b[1m9s\u001b[0m 20ms/step - accuracy: 0.9926 - loss: 0.0234 - val_accuracy: 0.9770 - val_loss: 0.1008\n",
            "\n",
            "With Early Stopping (Patience = 5):\n",
            "Total Epochs Run: 8\n",
            "Final Validation Loss: 0.1008\n",
            "Final Validation Accuracy: 0.9770\n"
          ]
        }
      ]
    },
    {
      "cell_type": "markdown",
      "source": [
        "Expected Insights from Output\n",
        "Without Early Stopping → The model runs for all 20 epochs, but may overfit.\n",
        "Patience = 2 → Stops early, possibly preventing overfitting but may not fully optimize.\n",
        "Patience = 5 → Balances between stopping early and achieving a good performance."
      ],
      "metadata": {
        "id": "XVvG-dUGGHj3"
      }
    },
    {
      "cell_type": "markdown",
      "source": [
        "Data Augmentation"
      ],
      "metadata": {
        "id": "vADWBD_nHZex"
      }
    },
    {
      "cell_type": "code",
      "source": [
        "from tensorflow.keras.preprocessing.image import ImageDataGenerator\n",
        "\n",
        "# Define data augmentation transformations\n",
        "datagen = ImageDataGenerator(\n",
        "    rotation_range=10,      # Rotate images by up to 10 degrees\n",
        "    width_shift_range=0.1,  # Shift width by up to 10% of the image\n",
        "    height_shift_range=0.1, # Shift height by up to 10% of the image\n",
        "    zoom_range=0.1,         # Zoom in/out by up to 10%\n",
        "    shear_range=0.1         # Apply shearing transformations\n",
        ")\n",
        "\n",
        "# Fit the generator to training data\n",
        "datagen.fit(x_train.reshape(-1, 28, 28, 1))  # Reshape to 4D tensor for augmentation\n",
        "\n",
        "\n",
        "def build_augmented_model():\n",
        "    model = keras.Sequential([\n",
        "        layers.Dense(512, activation='relu', input_shape=(28*28,)),\n",
        "        layers.Dense(256, activation='relu'),\n",
        "        layers.Dense(128, activation='relu'),\n",
        "        layers.Dense(64, activation='relu'),\n",
        "        layers.Dense(32, activation='relu'),\n",
        "        layers.Dense(10, activation='softmax')\n",
        "    ])\n",
        "\n",
        "    model.compile(optimizer='adam',\n",
        "                  loss='categorical_crossentropy',\n",
        "                  metrics=['accuracy'])\n",
        "    return model\n",
        "\n",
        "augmented_model = build_augmented_model()\n",
        "\n",
        "# Flatten images before feeding into the model\n",
        "def flatten_generator(generator):\n",
        "    for batch_x, batch_y in generator:\n",
        "        yield batch_x.reshape(batch_x.shape[0], 28*28), batch_y  # Flatten images\n",
        "\n",
        "# Train using augmented data (now correctly flattened)\n",
        "history_augmented = augmented_model.fit(\n",
        "    flatten_generator(datagen.flow(x_train.reshape(-1, 28, 28, 1), y_train, batch_size=128)),\n",
        "    epochs=20,\n",
        "    steps_per_epoch=len(x_train) // 128,\n",
        "    validation_data=(x_test.reshape(-1, 28*28), y_test)\n",
        ")\n",
        "\n"
      ],
      "metadata": {
        "colab": {
          "base_uri": "https://localhost:8080/"
        },
        "id": "eLCO1BmnGF-v",
        "outputId": "a3d9ca06-c5fa-4ae0-d2f6-8d2d9ef002c9"
      },
      "execution_count": null,
      "outputs": [
        {
          "output_type": "stream",
          "name": "stderr",
          "text": [
            "/usr/local/lib/python3.11/dist-packages/keras/src/layers/core/dense.py:87: UserWarning: Do not pass an `input_shape`/`input_dim` argument to a layer. When using Sequential models, prefer using an `Input(shape)` object as the first layer in the model instead.\n",
            "  super().__init__(activity_regularizer=activity_regularizer, **kwargs)\n"
          ]
        },
        {
          "output_type": "stream",
          "name": "stdout",
          "text": [
            "Epoch 1/20\n",
            "\u001b[1m468/468\u001b[0m \u001b[32m━━━━━━━━━━━━━━━━━━━━\u001b[0m\u001b[37m\u001b[0m \u001b[1m32s\u001b[0m 64ms/step - accuracy: 0.7049 - loss: 0.8831 - val_accuracy: 0.9589 - val_loss: 0.1284\n",
            "Epoch 2/20\n",
            "\u001b[1m468/468\u001b[0m \u001b[32m━━━━━━━━━━━━━━━━━━━━\u001b[0m\u001b[37m\u001b[0m \u001b[1m30s\u001b[0m 63ms/step - accuracy: 0.9351 - loss: 0.2111 - val_accuracy: 0.9708 - val_loss: 0.0892\n",
            "Epoch 3/20\n",
            "\u001b[1m468/468\u001b[0m \u001b[32m━━━━━━━━━━━━━━━━━━━━\u001b[0m\u001b[37m\u001b[0m \u001b[1m29s\u001b[0m 63ms/step - accuracy: 0.9508 - loss: 0.1578 - val_accuracy: 0.9703 - val_loss: 0.0955\n",
            "Epoch 4/20\n",
            "\u001b[1m468/468\u001b[0m \u001b[32m━━━━━━━━━━━━━━━━━━━━\u001b[0m\u001b[37m\u001b[0m \u001b[1m31s\u001b[0m 66ms/step - accuracy: 0.9580 - loss: 0.1389 - val_accuracy: 0.9772 - val_loss: 0.0708\n",
            "Epoch 5/20\n",
            "\u001b[1m468/468\u001b[0m \u001b[32m━━━━━━━━━━━━━━━━━━━━\u001b[0m\u001b[37m\u001b[0m \u001b[1m30s\u001b[0m 64ms/step - accuracy: 0.9635 - loss: 0.1194 - val_accuracy: 0.9813 - val_loss: 0.0612\n",
            "Epoch 6/20\n",
            "\u001b[1m468/468\u001b[0m \u001b[32m━━━━━━━━━━━━━━━━━━━━\u001b[0m\u001b[37m\u001b[0m \u001b[1m31s\u001b[0m 67ms/step - accuracy: 0.9655 - loss: 0.1079 - val_accuracy: 0.9832 - val_loss: 0.0536\n",
            "Epoch 7/20\n",
            "\u001b[1m468/468\u001b[0m \u001b[32m━━━━━━━━━━━━━━━━━━━━\u001b[0m\u001b[37m\u001b[0m \u001b[1m31s\u001b[0m 67ms/step - accuracy: 0.9681 - loss: 0.1021 - val_accuracy: 0.9829 - val_loss: 0.0537\n",
            "Epoch 8/20\n",
            "\u001b[1m468/468\u001b[0m \u001b[32m━━━━━━━━━━━━━━━━━━━━\u001b[0m\u001b[37m\u001b[0m \u001b[1m31s\u001b[0m 65ms/step - accuracy: 0.9710 - loss: 0.0927 - val_accuracy: 0.9796 - val_loss: 0.0624\n",
            "Epoch 9/20\n",
            "\u001b[1m468/468\u001b[0m \u001b[32m━━━━━━━━━━━━━━━━━━━━\u001b[0m\u001b[37m\u001b[0m \u001b[1m29s\u001b[0m 61ms/step - accuracy: 0.9705 - loss: 0.0902 - val_accuracy: 0.9821 - val_loss: 0.0553\n",
            "Epoch 10/20\n",
            "\u001b[1m468/468\u001b[0m \u001b[32m━━━━━━━━━━━━━━━━━━━━\u001b[0m\u001b[37m\u001b[0m \u001b[1m29s\u001b[0m 62ms/step - accuracy: 0.9721 - loss: 0.0903 - val_accuracy: 0.9831 - val_loss: 0.0530\n",
            "Epoch 11/20\n",
            "\u001b[1m468/468\u001b[0m \u001b[32m━━━━━━━━━━━━━━━━━━━━\u001b[0m\u001b[37m\u001b[0m \u001b[1m30s\u001b[0m 64ms/step - accuracy: 0.9733 - loss: 0.0845 - val_accuracy: 0.9831 - val_loss: 0.0510\n",
            "Epoch 12/20\n",
            "\u001b[1m468/468\u001b[0m \u001b[32m━━━━━━━━━━━━━━━━━━━━\u001b[0m\u001b[37m\u001b[0m \u001b[1m30s\u001b[0m 64ms/step - accuracy: 0.9759 - loss: 0.0785 - val_accuracy: 0.9827 - val_loss: 0.0508\n",
            "Epoch 13/20\n",
            "\u001b[1m468/468\u001b[0m \u001b[32m━━━━━━━━━━━━━━━━━━━━\u001b[0m\u001b[37m\u001b[0m \u001b[1m31s\u001b[0m 66ms/step - accuracy: 0.9747 - loss: 0.0815 - val_accuracy: 0.9863 - val_loss: 0.0414\n",
            "Epoch 14/20\n",
            "\u001b[1m468/468\u001b[0m \u001b[32m━━━━━━━━━━━━━━━━━━━━\u001b[0m\u001b[37m\u001b[0m \u001b[1m30s\u001b[0m 63ms/step - accuracy: 0.9773 - loss: 0.0741 - val_accuracy: 0.9858 - val_loss: 0.0461\n",
            "Epoch 15/20\n",
            "\u001b[1m468/468\u001b[0m \u001b[32m━━━━━━━━━━━━━━━━━━━━\u001b[0m\u001b[37m\u001b[0m \u001b[1m28s\u001b[0m 61ms/step - accuracy: 0.9777 - loss: 0.0737 - val_accuracy: 0.9848 - val_loss: 0.0478\n",
            "Epoch 16/20\n",
            "\u001b[1m468/468\u001b[0m \u001b[32m━━━━━━━━━━━━━━━━━━━━\u001b[0m\u001b[37m\u001b[0m \u001b[1m30s\u001b[0m 65ms/step - accuracy: 0.9786 - loss: 0.0679 - val_accuracy: 0.9854 - val_loss: 0.0481\n",
            "Epoch 17/20\n",
            "\u001b[1m468/468\u001b[0m \u001b[32m━━━━━━━━━━━━━━━━━━━━\u001b[0m\u001b[37m\u001b[0m \u001b[1m31s\u001b[0m 66ms/step - accuracy: 0.9784 - loss: 0.0696 - val_accuracy: 0.9850 - val_loss: 0.0490\n",
            "Epoch 18/20\n",
            "\u001b[1m468/468\u001b[0m \u001b[32m━━━━━━━━━━━━━━━━━━━━\u001b[0m\u001b[37m\u001b[0m \u001b[1m30s\u001b[0m 64ms/step - accuracy: 0.9780 - loss: 0.0675 - val_accuracy: 0.9874 - val_loss: 0.0354\n",
            "Epoch 19/20\n",
            "\u001b[1m468/468\u001b[0m \u001b[32m━━━━━━━━━━━━━━━━━━━━\u001b[0m\u001b[37m\u001b[0m \u001b[1m28s\u001b[0m 59ms/step - accuracy: 0.9804 - loss: 0.0627 - val_accuracy: 0.9880 - val_loss: 0.0378\n",
            "Epoch 20/20\n",
            "\u001b[1m468/468\u001b[0m \u001b[32m━━━━━━━━━━━━━━━━━━━━\u001b[0m\u001b[37m\u001b[0m \u001b[1m30s\u001b[0m 65ms/step - accuracy: 0.9795 - loss: 0.0672 - val_accuracy: 0.9875 - val_loss: 0.0403\n"
          ]
        }
      ]
    },
    {
      "cell_type": "code",
      "source": [
        "# Combine L2 Regularization, Dropout, and Data Augmentation\n",
        "\n",
        "# Define the combined regularization model with L2 + Dropout\n",
        "def build_combined_regularized_model(l2=0.01, dropout_rate=0.2):\n",
        "    model = keras.Sequential([\n",
        "        layers.Dense(512, activation='relu', input_shape=(28*28,), kernel_regularizer=regularizers.l2(l2)),\n",
        "        layers.Dropout(dropout_rate),  # Dropout layer\n",
        "        layers.Dense(256, activation='relu', kernel_regularizer=regularizers.l2(l2)),\n",
        "        layers.Dropout(dropout_rate),\n",
        "        layers.Dense(128, activation='relu', kernel_regularizer=regularizers.l2(l2)),\n",
        "        layers.Dropout(dropout_rate),\n",
        "        layers.Dense(64, activation='relu', kernel_regularizer=regularizers.l2(l2)),\n",
        "        layers.Dropout(dropout_rate),\n",
        "        layers.Dense(32, activation='relu', kernel_regularizer=regularizers.l2(l2)),\n",
        "        layers.Dropout(dropout_rate),\n",
        "        layers.Dense(10, activation='softmax')\n",
        "    ])\n",
        "\n",
        "    model.compile(optimizer='adam',\n",
        "                  loss='categorical_crossentropy',\n",
        "                  metrics=['accuracy'])\n",
        "    return model\n",
        "\n",
        "# Train the model with L2 + Dropout regularization\n",
        "combined_model = build_combined_regularized_model(l2=0.01, dropout_rate=0.2)\n",
        "history_combined = combined_model.fit(\n",
        "    flatten_generator(datagen.flow(x_train.reshape(-1, 28, 28, 1), y_train, batch_size=128)),\n",
        "    epochs=20,\n",
        "    steps_per_epoch=len(x_train) // 128,\n",
        "    validation_data=(x_test.reshape(-1, 28*28), y_test)\n",
        ")\n",
        "\n",
        "# Evaluate and compare the results\n",
        "def plot_history(history_baseline, history_l1, history_l2, history_dropout, history_combined):\n",
        "    plt.figure(figsize=(12, 8))\n",
        "\n",
        "    # Plot training and validation accuracy\n",
        "    plt.subplot(2, 2, 1)\n",
        "    plt.plot(history_baseline.history['accuracy'], label='Baseline')\n",
        "    plt.plot(history_l1.history['accuracy'], label='L1 Regularization')\n",
        "    plt.plot(history_l2.history['accuracy'], label='L2 Regularization')\n",
        "    plt.plot(history_dropout.history['accuracy'], label='Dropout')\n",
        "    plt.plot(history_combined.history['accuracy'], label='L2 + Dropout + Augmentation')\n",
        "    plt.title('Training Accuracy')\n",
        "    plt.xlabel('Epochs')\n",
        "    plt.ylabel('Accuracy')\n",
        "    plt.legend()\n",
        "\n",
        "    # Plot training and validation loss\n",
        "    plt.subplot(2, 2, 2)\n",
        "    plt.plot(history_baseline.history['loss'], label='Baseline')\n",
        "    plt.plot(history_l1.history['loss'], label='L1 Regularization')\n",
        "    plt.plot(history_l2.history['loss'], label='L2 Regularization')\n",
        "    plt.plot(history_dropout.history['loss'], label='Dropout')\n",
        "    plt.plot(history_combined.history['loss'], label='L2 + Dropout + Augmentation')\n",
        "    plt.title('Training Loss')\n",
        "    plt.xlabel('Epochs')\n",
        "    plt.ylabel('Loss')\n",
        "    plt.legend()\n",
        "\n",
        "    # Plot validation accuracy\n",
        "    plt.subplot(2, 2, 3)\n",
        "    plt.plot(history_baseline.history['val_accuracy'], label='Baseline')\n",
        "    plt.plot(history_l1.history['val_accuracy'], label='L1 Regularization')\n",
        "    plt.plot(history_l2.history['val_accuracy'], label='L2 Regularization')\n",
        "    plt.plot(history_dropout.history['val_accuracy'], label='Dropout')\n",
        "    plt.plot(history_combined.history['val_accuracy'], label='L2 + Dropout + Augmentation')\n",
        "    plt.title('Validation Accuracy')\n",
        "    plt.xlabel('Epochs')\n",
        "    plt.ylabel('Accuracy')\n",
        "    plt.legend()\n",
        "\n",
        "    # Plot validation loss\n",
        "    plt.subplot(2, 2, 4)\n",
        "    plt.plot(history_baseline.history['val_loss'], label='Baseline')\n",
        "    plt.plot(history_l1.history['val_loss'], label='L1 Regularization')\n",
        "    plt.plot(history_l2.history['val_loss'], label='L2 Regularization')\n",
        "    plt.plot(history_dropout.history['val_loss'], label='Dropout')\n",
        "    plt.plot(history_combined.history['val_loss'], label='L2 + Dropout + Augmentation')\n",
        "    plt.title('Validation Loss')\n",
        "    plt.xlabel('Epochs')\n",
        "    plt.ylabel('Loss')\n",
        "    plt.legend()\n",
        "\n",
        "    plt.tight_layout()\n",
        "    plt.show()\n",
        "\n",
        "# Call the function to plot and compare the results\n",
        "plot_history(history_baseline, history_l1, history_l2, history_dropout, history_combined)\n",
        "\n",
        "# Evaluate the combined model on the test set\n",
        "test_loss, test_accuracy = combined_model.evaluate(x_test.reshape(-1, 28*28), y_test, verbose=2)\n",
        "print(f\"Test Loss: {test_loss:.4f}\")\n",
        "print(f\"Test Accuracy: {test_accuracy:.4f}\")\n"
      ],
      "metadata": {
        "colab": {
          "base_uri": "https://localhost:8080/",
          "height": 1000
        },
        "id": "6dYJXmfVG22I",
        "outputId": "1e0b1408-3078-4ef5-cc30-d17d948b3a2e"
      },
      "execution_count": null,
      "outputs": [
        {
          "output_type": "stream",
          "name": "stdout",
          "text": [
            "Epoch 1/20\n",
            "\u001b[1m468/468\u001b[0m \u001b[32m━━━━━━━━━━━━━━━━━━━━\u001b[0m\u001b[37m\u001b[0m \u001b[1m37s\u001b[0m 71ms/step - accuracy: 0.4319 - loss: 4.8447 - val_accuracy: 0.8606 - val_loss: 1.1576\n",
            "Epoch 2/20\n",
            "\u001b[1m468/468\u001b[0m \u001b[32m━━━━━━━━━━━━━━━━━━━━\u001b[0m\u001b[37m\u001b[0m \u001b[1m31s\u001b[0m 66ms/step - accuracy: 0.7686 - loss: 1.4257 - val_accuracy: 0.9183 - val_loss: 0.9918\n",
            "Epoch 3/20\n",
            "\u001b[1m468/468\u001b[0m \u001b[32m━━━━━━━━━━━━━━━━━━━━\u001b[0m\u001b[37m\u001b[0m \u001b[1m32s\u001b[0m 69ms/step - accuracy: 0.8174 - loss: 1.2827 - val_accuracy: 0.9343 - val_loss: 0.9440\n",
            "Epoch 4/20\n",
            "\u001b[1m468/468\u001b[0m \u001b[32m━━━━━━━━━━━━━━━━━━━━\u001b[0m\u001b[37m\u001b[0m \u001b[1m32s\u001b[0m 69ms/step - accuracy: 0.8338 - loss: 1.2184 - val_accuracy: 0.9466 - val_loss: 0.8546\n",
            "Epoch 5/20\n",
            "\u001b[1m468/468\u001b[0m \u001b[32m━━━━━━━━━━━━━━━━━━━━\u001b[0m\u001b[37m\u001b[0m \u001b[1m31s\u001b[0m 66ms/step - accuracy: 0.8410 - loss: 1.1727 - val_accuracy: 0.9389 - val_loss: 0.8485\n",
            "Epoch 6/20\n",
            "\u001b[1m468/468\u001b[0m \u001b[32m━━━━━━━━━━━━━━━━━━━━\u001b[0m\u001b[37m\u001b[0m \u001b[1m32s\u001b[0m 69ms/step - accuracy: 0.8491 - loss: 1.1384 - val_accuracy: 0.9455 - val_loss: 0.8364\n",
            "Epoch 7/20\n",
            "\u001b[1m468/468\u001b[0m \u001b[32m━━━━━━━━━━━━━━━━━━━━\u001b[0m\u001b[37m\u001b[0m \u001b[1m34s\u001b[0m 72ms/step - accuracy: 0.8472 - loss: 1.1236 - val_accuracy: 0.9379 - val_loss: 0.8161\n",
            "Epoch 8/20\n",
            "\u001b[1m468/468\u001b[0m \u001b[32m━━━━━━━━━━━━━━━━━━━━\u001b[0m\u001b[37m\u001b[0m \u001b[1m31s\u001b[0m 65ms/step - accuracy: 0.8502 - loss: 1.0989 - val_accuracy: 0.9461 - val_loss: 0.7922\n",
            "Epoch 9/20\n",
            "\u001b[1m468/468\u001b[0m \u001b[32m━━━━━━━━━━━━━━━━━━━━\u001b[0m\u001b[37m\u001b[0m \u001b[1m32s\u001b[0m 68ms/step - accuracy: 0.8524 - loss: 1.0855 - val_accuracy: 0.9483 - val_loss: 0.7698\n",
            "Epoch 10/20\n",
            "\u001b[1m468/468\u001b[0m \u001b[32m━━━━━━━━━━━━━━━━━━━━\u001b[0m\u001b[37m\u001b[0m \u001b[1m32s\u001b[0m 69ms/step - accuracy: 0.8590 - loss: 1.0666 - val_accuracy: 0.9432 - val_loss: 0.7803\n",
            "Epoch 11/20\n",
            "\u001b[1m468/468\u001b[0m \u001b[32m━━━━━━━━━━━━━━━━━━━━\u001b[0m\u001b[37m\u001b[0m \u001b[1m31s\u001b[0m 65ms/step - accuracy: 0.8574 - loss: 1.0556 - val_accuracy: 0.9445 - val_loss: 0.7693\n",
            "Epoch 12/20\n",
            "\u001b[1m468/468\u001b[0m \u001b[32m━━━━━━━━━━━━━━━━━━━━\u001b[0m\u001b[37m\u001b[0m \u001b[1m30s\u001b[0m 64ms/step - accuracy: 0.8577 - loss: 1.0459 - val_accuracy: 0.9315 - val_loss: 0.7978\n",
            "Epoch 13/20\n",
            "\u001b[1m468/468\u001b[0m \u001b[32m━━━━━━━━━━━━━━━━━━━━\u001b[0m\u001b[37m\u001b[0m \u001b[1m31s\u001b[0m 66ms/step - accuracy: 0.8560 - loss: 1.0495 - val_accuracy: 0.9379 - val_loss: 0.7758\n",
            "Epoch 14/20\n",
            "\u001b[1m468/468\u001b[0m \u001b[32m━━━━━━━━━━━━━━━━━━━━\u001b[0m\u001b[37m\u001b[0m \u001b[1m31s\u001b[0m 66ms/step - accuracy: 0.8589 - loss: 1.0282 - val_accuracy: 0.9457 - val_loss: 0.7524\n",
            "Epoch 15/20\n",
            "\u001b[1m468/468\u001b[0m \u001b[32m━━━━━━━━━━━━━━━━━━━━\u001b[0m\u001b[37m\u001b[0m \u001b[1m32s\u001b[0m 68ms/step - accuracy: 0.8588 - loss: 1.0210 - val_accuracy: 0.9497 - val_loss: 0.7355\n",
            "Epoch 16/20\n",
            "\u001b[1m468/468\u001b[0m \u001b[32m━━━━━━━━━━━━━━━━━━━━\u001b[0m\u001b[37m\u001b[0m \u001b[1m31s\u001b[0m 65ms/step - accuracy: 0.8599 - loss: 1.0271 - val_accuracy: 0.9494 - val_loss: 0.7185\n",
            "Epoch 17/20\n",
            "\u001b[1m468/468\u001b[0m \u001b[32m━━━━━━━━━━━━━━━━━━━━\u001b[0m\u001b[37m\u001b[0m \u001b[1m31s\u001b[0m 67ms/step - accuracy: 0.8621 - loss: 1.0086 - val_accuracy: 0.9448 - val_loss: 0.7326\n",
            "Epoch 18/20\n",
            "\u001b[1m468/468\u001b[0m \u001b[32m━━━━━━━━━━━━━━━━━━━━\u001b[0m\u001b[37m\u001b[0m \u001b[1m31s\u001b[0m 67ms/step - accuracy: 0.8582 - loss: 1.0092 - val_accuracy: 0.9533 - val_loss: 0.7201\n",
            "Epoch 19/20\n",
            "\u001b[1m468/468\u001b[0m \u001b[32m━━━━━━━━━━━━━━━━━━━━\u001b[0m\u001b[37m\u001b[0m \u001b[1m31s\u001b[0m 66ms/step - accuracy: 0.8652 - loss: 0.9976 - val_accuracy: 0.9557 - val_loss: 0.6956\n",
            "Epoch 20/20\n",
            "\u001b[1m468/468\u001b[0m \u001b[32m━━━━━━━━━━━━━━━━━━━━\u001b[0m\u001b[37m\u001b[0m \u001b[1m33s\u001b[0m 71ms/step - accuracy: 0.8616 - loss: 1.0011 - val_accuracy: 0.9489 - val_loss: 0.7175\n"
          ]
        },
        {
          "output_type": "display_data",
          "data": {
            "text/plain": [
              "<Figure size 1200x800 with 4 Axes>"
            ],
            "image/png": "[encoded data removed]"
          },
          "metadata": {}
        },
        {
          "output_type": "stream",
          "name": "stdout",
          "text": [
            "313/313 - 1s - 4ms/step - accuracy: 0.9489 - loss: 0.7175\n",
            "Test Loss: 0.7175\n",
            "Test Accuracy: 0.9489\n"
          ]
        }
      ]
    },
    {
      "cell_type": "code",
      "source": [],
      "metadata": {
        "id": "3f_3YyX9LSJt"
      },
      "execution_count": null,
      "outputs": []
    }
  ]
}